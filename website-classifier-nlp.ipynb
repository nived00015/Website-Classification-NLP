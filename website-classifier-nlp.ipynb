{
 "cells": [
  {
   "cell_type": "code",
   "execution_count": 1,
   "metadata": {
    "_cell_guid": "b1076dfc-b9ad-4769-8c92-a6c4dae69d19",
    "_uuid": "8f2839f25d086af736a60e9eeb907d3b93b6e0e5",
    "execution": {
     "iopub.execute_input": "2022-04-12T07:22:10.021085Z",
     "iopub.status.busy": "2022-04-12T07:22:10.020462Z",
     "iopub.status.idle": "2022-04-12T07:22:11.878665Z",
     "shell.execute_reply": "2022-04-12T07:22:11.878139Z",
     "shell.execute_reply.started": "2022-04-12T05:24:26.012543Z"
    },
    "papermill": {
     "duration": 1.918033,
     "end_time": "2022-04-12T07:22:11.878821",
     "exception": false,
     "start_time": "2022-04-12T07:22:09.960788",
     "status": "completed"
    },
    "tags": []
   },
   "outputs": [
    {
     "name": "stdout",
     "output_type": "stream",
     "text": [
      "/kaggle/input/website-classification/website_classification.csv\n"
     ]
    }
   ],
   "source": [
    "# This Python 3 environment comes with many helpful analytics libraries installed\n",
    "# It is defined by the kaggle/python Docker image: https://github.com/kaggle/docker-python\n",
    "# For example, here's several helpful packages to load\n",
    "\n",
    "import numpy as np # linear algebra\n",
    "import pandas as pd # data processing, CSV file I/O (e.g. pd.read_csv)\n",
    "import matplotlib.pyplot as plt\n",
    "import seaborn as sb\n",
    "import nltk\n",
    "import string\n",
    "import re\n",
    "import sklearn.metrics as sm\n",
    "import imblearn\n",
    "\n",
    "# Input data files are available in the read-only \"../input/\" directory\n",
    "# For example, running this (by clicking run or pressing Shift+Enter) will list all files under the input directory\n",
    "\n",
    "import os\n",
    "for dirname, _, filenames in os.walk('/kaggle/input'):\n",
    "    for filename in filenames:\n",
    "        print(os.path.join(dirname, filename))\n",
    "\n",
    "# You can write up to 20GB to the current directory (/kaggle/working/) that gets preserved as output when you create a version using \"Save & Run All\" \n",
    "# You can also write temporary files to /kaggle/temp/, but they won't be saved outside of the current session"
   ]
  },
  {
   "cell_type": "code",
   "execution_count": 2,
   "metadata": {
    "execution": {
     "iopub.execute_input": "2022-04-12T07:22:11.984018Z",
     "iopub.status.busy": "2022-04-12T07:22:11.983171Z",
     "iopub.status.idle": "2022-04-12T07:22:20.393245Z",
     "shell.execute_reply": "2022-04-12T07:22:20.392740Z",
     "shell.execute_reply.started": "2022-04-12T05:24:28.080115Z"
    },
    "papermill": {
     "duration": 8.462876,
     "end_time": "2022-04-12T07:22:20.393381",
     "exception": false,
     "start_time": "2022-04-12T07:22:11.930505",
     "status": "completed"
    },
    "tags": []
   },
   "outputs": [
    {
     "name": "stdout",
     "output_type": "stream",
     "text": [
      "Requirement already satisfied: imbalanced-learn in /opt/conda/lib/python3.7/site-packages (0.9.0)\r\n",
      "Requirement already satisfied: numpy>=1.14.6 in /opt/conda/lib/python3.7/site-packages (from imbalanced-learn) (1.20.3)\r\n",
      "Requirement already satisfied: threadpoolctl>=2.0.0 in /opt/conda/lib/python3.7/site-packages (from imbalanced-learn) (3.0.0)\r\n",
      "Requirement already satisfied: joblib>=0.11 in /opt/conda/lib/python3.7/site-packages (from imbalanced-learn) (1.1.0)\r\n",
      "Requirement already satisfied: scikit-learn>=1.0.1 in /opt/conda/lib/python3.7/site-packages (from imbalanced-learn) (1.0.1)\r\n",
      "Requirement already satisfied: scipy>=1.1.0 in /opt/conda/lib/python3.7/site-packages (from imbalanced-learn) (1.7.3)\r\n",
      "\u001b[33mWARNING: Running pip as the 'root' user can result in broken permissions and conflicting behaviour with the system package manager. It is recommended to use a virtual environment instead: https://pip.pypa.io/warnings/venv\u001b[0m\r\n"
     ]
    }
   ],
   "source": [
    "!pip install imbalanced-learn"
   ]
  },
  {
   "cell_type": "markdown",
   "metadata": {
    "papermill": {
     "duration": 0.045314,
     "end_time": "2022-04-12T07:22:20.485685",
     "exception": false,
     "start_time": "2022-04-12T07:22:20.440371",
     "status": "completed"
    },
    "tags": []
   },
   "source": [
    "#### Common Domain Suffixes in the United States\n",
    ".com - Commercial\n",
    "\n",
    "A company owns the site.  A .com can be the company's actual Web site or it can be a Web space that a company sells to people.  Commercial sites are often difficult to evaluate because companies may include educational information on portions of their sites.  For example, the Duracell site information about sustainability and disposal.  You must decided on a case-by-case basis whether a particular site's information outweighs its commercial / advertising agenda.\n",
    "\n",
    ".org - Non-Profit Organization\n",
    "\n",
    "If you use a non-profit organization's site, think about the organization's agenda and how it's likely to influence the way they present information.\n",
    "\n",
    ".edu - Educational\n",
    "\n",
    "A .edu site is from a college or university, such as the University of Washington's http://www.washington.edu.  Usually, this means that the site has good information, but sometimes colleges and universities give Web space to students.  Remember that the students may or may not check their facts when they put information up on the Web.  \n",
    "\n",
    ".gov - U.S. Government\n",
    "\n",
    "These sites are produced by some part of the United States government (federal, state, county, or city government).\n",
    "\n",
    ".mil - U.S. Military\n",
    "\n",
    "These sites are produced by branches of the United States military (Army, Navy, Marines, Coast Guard, etc.)\n",
    "\n",
    ".net Internet-Related Service\n",
    "\n",
    "This means that the site has something to do with providing internet-related service.  Local internet service providers will have .net as part of their addresses, although they might also be .com.\n",
    "\n",
    ".k12 - K-12 School\n",
    "\n",
    "These sites come from K-12 Schools (kindergarten through 12th grade) and can include pages created by teachers and students.\n",
    "\n",
    "~ - Individual \n",
    "\n",
    "If you see a tilde (~) in the Web address, you'll know that an individual created the page.  Make sure that the individual cites their sources if you're considering to use the information in your research.  Note:  Universities offer Web space to their faculty, staff, and students.  If you're studying a subject in which the individual whose page you're looking at is a prominent researcher, it's probably all right if she doesn't cite outside sources when she discusses the topic of her own expertise.  "
   ]
  },
  {
   "cell_type": "code",
   "execution_count": 3,
   "metadata": {
    "execution": {
     "iopub.execute_input": "2022-04-12T07:22:20.583708Z",
     "iopub.status.busy": "2022-04-12T07:22:20.583203Z",
     "iopub.status.idle": "2022-04-12T07:22:20.768762Z",
     "shell.execute_reply": "2022-04-12T07:22:20.769258Z",
     "shell.execute_reply.started": "2022-04-12T05:24:35.720415Z"
    },
    "papermill": {
     "duration": 0.236931,
     "end_time": "2022-04-12T07:22:20.769419",
     "exception": false,
     "start_time": "2022-04-12T07:22:20.532488",
     "status": "completed"
    },
    "tags": []
   },
   "outputs": [
    {
     "data": {
      "text/html": [
       "<div>\n",
       "<style scoped>\n",
       "    .dataframe tbody tr th:only-of-type {\n",
       "        vertical-align: middle;\n",
       "    }\n",
       "\n",
       "    .dataframe tbody tr th {\n",
       "        vertical-align: top;\n",
       "    }\n",
       "\n",
       "    .dataframe thead th {\n",
       "        text-align: right;\n",
       "    }\n",
       "</style>\n",
       "<table border=\"1\" class=\"dataframe\">\n",
       "  <thead>\n",
       "    <tr style=\"text-align: right;\">\n",
       "      <th></th>\n",
       "      <th>Unnamed: 0</th>\n",
       "      <th>website_url</th>\n",
       "      <th>cleaned_website_text</th>\n",
       "      <th>Category</th>\n",
       "    </tr>\n",
       "  </thead>\n",
       "  <tbody>\n",
       "    <tr>\n",
       "      <th>0</th>\n",
       "      <td>0</td>\n",
       "      <td>https://www.booking.com/index.html?aid=1743217</td>\n",
       "      <td>official site good hotel accommodation big sav...</td>\n",
       "      <td>Travel</td>\n",
       "    </tr>\n",
       "    <tr>\n",
       "      <th>1</th>\n",
       "      <td>1</td>\n",
       "      <td>https://travelsites.com/expedia/</td>\n",
       "      <td>expedia hotel book sites like use vacation wor...</td>\n",
       "      <td>Travel</td>\n",
       "    </tr>\n",
       "    <tr>\n",
       "      <th>2</th>\n",
       "      <td>2</td>\n",
       "      <td>https://travelsites.com/tripadvisor/</td>\n",
       "      <td>tripadvisor hotel book sites like previously d...</td>\n",
       "      <td>Travel</td>\n",
       "    </tr>\n",
       "    <tr>\n",
       "      <th>3</th>\n",
       "      <td>3</td>\n",
       "      <td>https://www.momondo.in/?ispredir=true</td>\n",
       "      <td>cheap flights search compare flights momondo f...</td>\n",
       "      <td>Travel</td>\n",
       "    </tr>\n",
       "    <tr>\n",
       "      <th>4</th>\n",
       "      <td>4</td>\n",
       "      <td>https://www.ebookers.com/?AFFCID=EBOOKERS-UK.n...</td>\n",
       "      <td>bot create free account create free account si...</td>\n",
       "      <td>Travel</td>\n",
       "    </tr>\n",
       "    <tr>\n",
       "      <th>...</th>\n",
       "      <td>...</td>\n",
       "      <td>...</td>\n",
       "      <td>...</td>\n",
       "      <td>...</td>\n",
       "    </tr>\n",
       "    <tr>\n",
       "      <th>1403</th>\n",
       "      <td>1403</td>\n",
       "      <td>http://www.oldwomen.org/</td>\n",
       "      <td>old nude women porn mature granny sex horny ol...</td>\n",
       "      <td>Adult</td>\n",
       "    </tr>\n",
       "    <tr>\n",
       "      <th>1404</th>\n",
       "      <td>1404</td>\n",
       "      <td>http://www.webcamslave.com</td>\n",
       "      <td>bdsm cams bdsm chat bondage cams free bdsm vid...</td>\n",
       "      <td>Adult</td>\n",
       "    </tr>\n",
       "    <tr>\n",
       "      <th>1405</th>\n",
       "      <td>1405</td>\n",
       "      <td>http://www.buyeuroporn.com/</td>\n",
       "      <td>porno dvd online european porn dvd cheap adult...</td>\n",
       "      <td>Adult</td>\n",
       "    </tr>\n",
       "    <tr>\n",
       "      <th>1406</th>\n",
       "      <td>1406</td>\n",
       "      <td>http://www.analdreamhouse.com/30/03/agecheck/i...</td>\n",
       "      <td>anal dream house anal dream house anal dream h...</td>\n",
       "      <td>Adult</td>\n",
       "    </tr>\n",
       "    <tr>\n",
       "      <th>1407</th>\n",
       "      <td>1407</td>\n",
       "      <td>http://www.world-sex-news.com/</td>\n",
       "      <td>world sex news daily sex news adult news eroti...</td>\n",
       "      <td>Adult</td>\n",
       "    </tr>\n",
       "  </tbody>\n",
       "</table>\n",
       "<p>1408 rows × 4 columns</p>\n",
       "</div>"
      ],
      "text/plain": [
       "      Unnamed: 0                                        website_url  \\\n",
       "0              0     https://www.booking.com/index.html?aid=1743217   \n",
       "1              1                   https://travelsites.com/expedia/   \n",
       "2              2               https://travelsites.com/tripadvisor/   \n",
       "3              3              https://www.momondo.in/?ispredir=true   \n",
       "4              4  https://www.ebookers.com/?AFFCID=EBOOKERS-UK.n...   \n",
       "...          ...                                                ...   \n",
       "1403        1403                           http://www.oldwomen.org/   \n",
       "1404        1404                         http://www.webcamslave.com   \n",
       "1405        1405                        http://www.buyeuroporn.com/   \n",
       "1406        1406  http://www.analdreamhouse.com/30/03/agecheck/i...   \n",
       "1407        1407                     http://www.world-sex-news.com/   \n",
       "\n",
       "                                   cleaned_website_text Category  \n",
       "0     official site good hotel accommodation big sav...   Travel  \n",
       "1     expedia hotel book sites like use vacation wor...   Travel  \n",
       "2     tripadvisor hotel book sites like previously d...   Travel  \n",
       "3     cheap flights search compare flights momondo f...   Travel  \n",
       "4     bot create free account create free account si...   Travel  \n",
       "...                                                 ...      ...  \n",
       "1403  old nude women porn mature granny sex horny ol...    Adult  \n",
       "1404  bdsm cams bdsm chat bondage cams free bdsm vid...    Adult  \n",
       "1405  porno dvd online european porn dvd cheap adult...    Adult  \n",
       "1406  anal dream house anal dream house anal dream h...    Adult  \n",
       "1407  world sex news daily sex news adult news eroti...    Adult  \n",
       "\n",
       "[1408 rows x 4 columns]"
      ]
     },
     "execution_count": 3,
     "metadata": {},
     "output_type": "execute_result"
    }
   ],
   "source": [
    "##### read the dataset\n",
    "website_df= pd.read_csv('../input/website-classification/website_classification.csv')\n",
    "website_df"
   ]
  },
  {
   "cell_type": "code",
   "execution_count": 4,
   "metadata": {
    "execution": {
     "iopub.execute_input": "2022-04-12T07:22:20.873263Z",
     "iopub.status.busy": "2022-04-12T07:22:20.867626Z",
     "iopub.status.idle": "2022-04-12T07:22:20.875910Z",
     "shell.execute_reply": "2022-04-12T07:22:20.875374Z",
     "shell.execute_reply.started": "2022-04-12T05:24:37.009681Z"
    },
    "papermill": {
     "duration": 0.060103,
     "end_time": "2022-04-12T07:22:20.876048",
     "exception": false,
     "start_time": "2022-04-12T07:22:20.815945",
     "status": "completed"
    },
    "tags": []
   },
   "outputs": [],
   "source": [
    "website_url_df= website_df[['website_url','Category']]"
   ]
  },
  {
   "cell_type": "code",
   "execution_count": 5,
   "metadata": {
    "execution": {
     "iopub.execute_input": "2022-04-12T07:22:20.976157Z",
     "iopub.status.busy": "2022-04-12T07:22:20.975288Z",
     "iopub.status.idle": "2022-04-12T07:22:20.977187Z",
     "shell.execute_reply": "2022-04-12T07:22:20.977588Z",
     "shell.execute_reply.started": "2022-04-12T05:24:39.440176Z"
    },
    "papermill": {
     "duration": 0.055408,
     "end_time": "2022-04-12T07:22:20.977741",
     "exception": false,
     "start_time": "2022-04-12T07:22:20.922333",
     "status": "completed"
    },
    "tags": []
   },
   "outputs": [],
   "source": [
    "#### temporary purposes (deleting the unnamed: 0 & website_url)\n",
    "\n",
    "website_df.drop(['Unnamed: 0','website_url'],axis=1,inplace=True)"
   ]
  },
  {
   "cell_type": "code",
   "execution_count": 6,
   "metadata": {
    "execution": {
     "iopub.execute_input": "2022-04-12T07:22:21.082296Z",
     "iopub.status.busy": "2022-04-12T07:22:21.074571Z",
     "iopub.status.idle": "2022-04-12T07:22:21.346898Z",
     "shell.execute_reply": "2022-04-12T07:22:21.346434Z",
     "shell.execute_reply.started": "2022-04-12T05:24:40.611540Z"
    },
    "papermill": {
     "duration": 0.321268,
     "end_time": "2022-04-12T07:22:21.347026",
     "exception": false,
     "start_time": "2022-04-12T07:22:21.025758",
     "status": "completed"
    },
    "tags": []
   },
   "outputs": [
    {
     "data": {
      "image/png": "[encoded data removed]",
      "text/plain": [
       "<Figure size 864x720 with 1 Axes>"
      ]
     },
     "metadata": {
      "needs_background": "light"
     },
     "output_type": "display_data"
    }
   ],
   "source": [
    "#### let's study the count of each category\n",
    "\n",
    "plt.figure(figsize=(12,10))\n",
    "plt.title('Category vs Counts')\n",
    "website_category_df= pd.DataFrame(website_df.groupby('Category').size(),columns=['Count'])\n",
    "plt.barh(width=website_category_df['Count'],y=website_category_df.index)\n",
    "plt.show()"
   ]
  },
  {
   "cell_type": "markdown",
   "metadata": {
    "papermill": {
     "duration": 0.047398,
     "end_time": "2022-04-12T07:22:21.442218",
     "exception": false,
     "start_time": "2022-04-12T07:22:21.394820",
     "status": "completed"
    },
    "tags": []
   },
   "source": [
    "##### Almost all category are in same count except for forums and adults"
   ]
  },
  {
   "cell_type": "markdown",
   "metadata": {
    "papermill": {
     "duration": 0.047387,
     "end_time": "2022-04-12T07:22:21.536705",
     "exception": false,
     "start_time": "2022-04-12T07:22:21.489318",
     "status": "completed"
    },
    "tags": []
   },
   "source": [
    "##                                                      Data Cleaning & Engineering"
   ]
  },
  {
   "cell_type": "markdown",
   "metadata": {
    "papermill": {
     "duration": 0.046846,
     "end_time": "2022-04-12T07:22:21.631116",
     "exception": false,
     "start_time": "2022-04-12T07:22:21.584270",
     "status": "completed"
    },
    "tags": []
   },
   "source": [
    "#### converts the letters of word to lower case"
   ]
  },
  {
   "cell_type": "code",
   "execution_count": 7,
   "metadata": {
    "execution": {
     "iopub.execute_input": "2022-04-12T07:22:21.746400Z",
     "iopub.status.busy": "2022-04-12T07:22:21.745533Z",
     "iopub.status.idle": "2022-04-12T07:22:21.747236Z",
     "shell.execute_reply": "2022-04-12T07:22:21.747902Z",
     "shell.execute_reply.started": "2022-04-12T05:24:43.525662Z"
    },
    "papermill": {
     "duration": 0.069522,
     "end_time": "2022-04-12T07:22:21.748041",
     "exception": false,
     "start_time": "2022-04-12T07:22:21.678519",
     "status": "completed"
    },
    "tags": []
   },
   "outputs": [],
   "source": [
    "\n",
    "\n",
    "website_df['cleaned_website_text']= website_df['cleaned_website_text'].apply(lambda x:x.lower())\n"
   ]
  },
  {
   "cell_type": "markdown",
   "metadata": {
    "execution": {
     "iopub.execute_input": "2022-04-02T14:23:25.722171Z",
     "iopub.status.busy": "2022-04-02T14:23:25.721777Z",
     "iopub.status.idle": "2022-04-02T14:23:25.72626Z",
     "shell.execute_reply": "2022-04-02T14:23:25.725623Z",
     "shell.execute_reply.started": "2022-04-02T14:23:25.722131Z"
    },
    "papermill": {
     "duration": 0.047404,
     "end_time": "2022-04-12T07:22:21.842278",
     "exception": false,
     "start_time": "2022-04-12T07:22:21.794874",
     "status": "completed"
    },
    "tags": []
   },
   "source": [
    "##### splits the sentence to the list of words"
   ]
  },
  {
   "cell_type": "code",
   "execution_count": 8,
   "metadata": {
    "execution": {
     "iopub.execute_input": "2022-04-12T07:22:21.944592Z",
     "iopub.status.busy": "2022-04-12T07:22:21.943980Z",
     "iopub.status.idle": "2022-04-12T07:22:31.303264Z",
     "shell.execute_reply": "2022-04-12T07:22:31.304020Z",
     "shell.execute_reply.started": "2022-04-12T05:24:44.678658Z"
    },
    "papermill": {
     "duration": 9.413866,
     "end_time": "2022-04-12T07:22:31.304179",
     "exception": false,
     "start_time": "2022-04-12T07:22:21.890313",
     "status": "completed"
    },
    "tags": []
   },
   "outputs": [
    {
     "data": {
      "text/html": [
       "<div>\n",
       "<style scoped>\n",
       "    .dataframe tbody tr th:only-of-type {\n",
       "        vertical-align: middle;\n",
       "    }\n",
       "\n",
       "    .dataframe tbody tr th {\n",
       "        vertical-align: top;\n",
       "    }\n",
       "\n",
       "    .dataframe thead th {\n",
       "        text-align: right;\n",
       "    }\n",
       "</style>\n",
       "<table border=\"1\" class=\"dataframe\">\n",
       "  <thead>\n",
       "    <tr style=\"text-align: right;\">\n",
       "      <th></th>\n",
       "      <th>cleaned_website_text</th>\n",
       "      <th>Category</th>\n",
       "      <th>tokenized_words</th>\n",
       "    </tr>\n",
       "  </thead>\n",
       "  <tbody>\n",
       "    <tr>\n",
       "      <th>0</th>\n",
       "      <td>official site good hotel accommodation big sav...</td>\n",
       "      <td>Travel</td>\n",
       "      <td>[official, site, good, hotel, accommodation, b...</td>\n",
       "    </tr>\n",
       "    <tr>\n",
       "      <th>1</th>\n",
       "      <td>expedia hotel book sites like use vacation wor...</td>\n",
       "      <td>Travel</td>\n",
       "      <td>[expedia, hotel, book, sites, like, use, vacat...</td>\n",
       "    </tr>\n",
       "    <tr>\n",
       "      <th>2</th>\n",
       "      <td>tripadvisor hotel book sites like previously d...</td>\n",
       "      <td>Travel</td>\n",
       "      <td>[tripadvisor, hotel, book, sites, like, previo...</td>\n",
       "    </tr>\n",
       "    <tr>\n",
       "      <th>3</th>\n",
       "      <td>cheap flights search compare flights momondo f...</td>\n",
       "      <td>Travel</td>\n",
       "      <td>[cheap, flights, search, compare, flights, mom...</td>\n",
       "    </tr>\n",
       "    <tr>\n",
       "      <th>4</th>\n",
       "      <td>bot create free account create free account si...</td>\n",
       "      <td>Travel</td>\n",
       "      <td>[bot, create, free, account, create, free, acc...</td>\n",
       "    </tr>\n",
       "    <tr>\n",
       "      <th>...</th>\n",
       "      <td>...</td>\n",
       "      <td>...</td>\n",
       "      <td>...</td>\n",
       "    </tr>\n",
       "    <tr>\n",
       "      <th>1403</th>\n",
       "      <td>old nude women porn mature granny sex horny ol...</td>\n",
       "      <td>Adult</td>\n",
       "      <td>[old, nude, women, porn, mature, granny, sex, ...</td>\n",
       "    </tr>\n",
       "    <tr>\n",
       "      <th>1404</th>\n",
       "      <td>bdsm cams bdsm chat bondage cams free bdsm vid...</td>\n",
       "      <td>Adult</td>\n",
       "      <td>[bdsm, cams, bdsm, chat, bondage, cams, free, ...</td>\n",
       "    </tr>\n",
       "    <tr>\n",
       "      <th>1405</th>\n",
       "      <td>porno dvd online european porn dvd cheap adult...</td>\n",
       "      <td>Adult</td>\n",
       "      <td>[porno, dvd, online, european, porn, dvd, chea...</td>\n",
       "    </tr>\n",
       "    <tr>\n",
       "      <th>1406</th>\n",
       "      <td>anal dream house anal dream house anal dream h...</td>\n",
       "      <td>Adult</td>\n",
       "      <td>[anal, dream, house, anal, dream, house, anal,...</td>\n",
       "    </tr>\n",
       "    <tr>\n",
       "      <th>1407</th>\n",
       "      <td>world sex news daily sex news adult news eroti...</td>\n",
       "      <td>Adult</td>\n",
       "      <td>[world, sex, news, daily, sex, news, adult, ne...</td>\n",
       "    </tr>\n",
       "  </tbody>\n",
       "</table>\n",
       "<p>1408 rows × 3 columns</p>\n",
       "</div>"
      ],
      "text/plain": [
       "                                   cleaned_website_text Category  \\\n",
       "0     official site good hotel accommodation big sav...   Travel   \n",
       "1     expedia hotel book sites like use vacation wor...   Travel   \n",
       "2     tripadvisor hotel book sites like previously d...   Travel   \n",
       "3     cheap flights search compare flights momondo f...   Travel   \n",
       "4     bot create free account create free account si...   Travel   \n",
       "...                                                 ...      ...   \n",
       "1403  old nude women porn mature granny sex horny ol...    Adult   \n",
       "1404  bdsm cams bdsm chat bondage cams free bdsm vid...    Adult   \n",
       "1405  porno dvd online european porn dvd cheap adult...    Adult   \n",
       "1406  anal dream house anal dream house anal dream h...    Adult   \n",
       "1407  world sex news daily sex news adult news eroti...    Adult   \n",
       "\n",
       "                                        tokenized_words  \n",
       "0     [official, site, good, hotel, accommodation, b...  \n",
       "1     [expedia, hotel, book, sites, like, use, vacat...  \n",
       "2     [tripadvisor, hotel, book, sites, like, previo...  \n",
       "3     [cheap, flights, search, compare, flights, mom...  \n",
       "4     [bot, create, free, account, create, free, acc...  \n",
       "...                                                 ...  \n",
       "1403  [old, nude, women, porn, mature, granny, sex, ...  \n",
       "1404  [bdsm, cams, bdsm, chat, bondage, cams, free, ...  \n",
       "1405  [porno, dvd, online, european, porn, dvd, chea...  \n",
       "1406  [anal, dream, house, anal, dream, house, anal,...  \n",
       "1407  [world, sex, news, daily, sex, news, adult, ne...  \n",
       "\n",
       "[1408 rows x 3 columns]"
      ]
     },
     "execution_count": 8,
     "metadata": {},
     "output_type": "execute_result"
    }
   ],
   "source": [
    "\n",
    "from nltk.tokenize import word_tokenize\n",
    "website_df['tokenized_words'] = website_df['cleaned_website_text'].apply(lambda x:word_tokenize(x))\n",
    "website_df"
   ]
  },
  {
   "cell_type": "markdown",
   "metadata": {
    "papermill": {
     "duration": 0.048434,
     "end_time": "2022-04-12T07:22:31.400899",
     "exception": false,
     "start_time": "2022-04-12T07:22:31.352465",
     "status": "completed"
    },
    "tags": []
   },
   "source": [
    "#### removing special characters (if anything is there still)"
   ]
  },
  {
   "cell_type": "code",
   "execution_count": 9,
   "metadata": {
    "execution": {
     "iopub.execute_input": "2022-04-12T07:22:31.548563Z",
     "iopub.status.busy": "2022-04-12T07:22:31.533231Z",
     "iopub.status.idle": "2022-04-12T07:22:34.888127Z",
     "shell.execute_reply": "2022-04-12T07:22:34.887368Z",
     "shell.execute_reply.started": "2022-04-12T05:24:54.386480Z"
    },
    "papermill": {
     "duration": 3.439028,
     "end_time": "2022-04-12T07:22:34.888260",
     "exception": false,
     "start_time": "2022-04-12T07:22:31.449232",
     "status": "completed"
    },
    "tags": []
   },
   "outputs": [
    {
     "data": {
      "text/html": [
       "<div>\n",
       "<style scoped>\n",
       "    .dataframe tbody tr th:only-of-type {\n",
       "        vertical-align: middle;\n",
       "    }\n",
       "\n",
       "    .dataframe tbody tr th {\n",
       "        vertical-align: top;\n",
       "    }\n",
       "\n",
       "    .dataframe thead th {\n",
       "        text-align: right;\n",
       "    }\n",
       "</style>\n",
       "<table border=\"1\" class=\"dataframe\">\n",
       "  <thead>\n",
       "    <tr style=\"text-align: right;\">\n",
       "      <th></th>\n",
       "      <th>cleaned_website_text</th>\n",
       "      <th>Category</th>\n",
       "      <th>tokenized_words</th>\n",
       "    </tr>\n",
       "  </thead>\n",
       "  <tbody>\n",
       "    <tr>\n",
       "      <th>0</th>\n",
       "      <td>official site good hotel accommodation big sav...</td>\n",
       "      <td>Travel</td>\n",
       "      <td>[official, site, good, hotel, accommodation, b...</td>\n",
       "    </tr>\n",
       "    <tr>\n",
       "      <th>1</th>\n",
       "      <td>expedia hotel book sites like use vacation wor...</td>\n",
       "      <td>Travel</td>\n",
       "      <td>[expedia, hotel, book, sites, like, use, vacat...</td>\n",
       "    </tr>\n",
       "    <tr>\n",
       "      <th>2</th>\n",
       "      <td>tripadvisor hotel book sites like previously d...</td>\n",
       "      <td>Travel</td>\n",
       "      <td>[tripadvisor, hotel, book, sites, like, previo...</td>\n",
       "    </tr>\n",
       "    <tr>\n",
       "      <th>3</th>\n",
       "      <td>cheap flights search compare flights momondo f...</td>\n",
       "      <td>Travel</td>\n",
       "      <td>[cheap, flights, search, compare, flights, mom...</td>\n",
       "    </tr>\n",
       "    <tr>\n",
       "      <th>4</th>\n",
       "      <td>bot create free account create free account si...</td>\n",
       "      <td>Travel</td>\n",
       "      <td>[bot, create, free, account, create, free, acc...</td>\n",
       "    </tr>\n",
       "    <tr>\n",
       "      <th>...</th>\n",
       "      <td>...</td>\n",
       "      <td>...</td>\n",
       "      <td>...</td>\n",
       "    </tr>\n",
       "    <tr>\n",
       "      <th>1403</th>\n",
       "      <td>old nude women porn mature granny sex horny ol...</td>\n",
       "      <td>Adult</td>\n",
       "      <td>[old, nude, women, porn, mature, granny, sex, ...</td>\n",
       "    </tr>\n",
       "    <tr>\n",
       "      <th>1404</th>\n",
       "      <td>bdsm cams bdsm chat bondage cams free bdsm vid...</td>\n",
       "      <td>Adult</td>\n",
       "      <td>[bdsm, cams, bdsm, chat, bondage, cams, free, ...</td>\n",
       "    </tr>\n",
       "    <tr>\n",
       "      <th>1405</th>\n",
       "      <td>porno dvd online european porn dvd cheap adult...</td>\n",
       "      <td>Adult</td>\n",
       "      <td>[porno, dvd, online, european, porn, dvd, chea...</td>\n",
       "    </tr>\n",
       "    <tr>\n",
       "      <th>1406</th>\n",
       "      <td>anal dream house anal dream house anal dream h...</td>\n",
       "      <td>Adult</td>\n",
       "      <td>[anal, dream, house, anal, dream, house, anal,...</td>\n",
       "    </tr>\n",
       "    <tr>\n",
       "      <th>1407</th>\n",
       "      <td>world sex news daily sex news adult news eroti...</td>\n",
       "      <td>Adult</td>\n",
       "      <td>[world, sex, news, daily, sex, news, adult, ne...</td>\n",
       "    </tr>\n",
       "  </tbody>\n",
       "</table>\n",
       "<p>1408 rows × 3 columns</p>\n",
       "</div>"
      ],
      "text/plain": [
       "                                   cleaned_website_text Category  \\\n",
       "0     official site good hotel accommodation big sav...   Travel   \n",
       "1     expedia hotel book sites like use vacation wor...   Travel   \n",
       "2     tripadvisor hotel book sites like previously d...   Travel   \n",
       "3     cheap flights search compare flights momondo f...   Travel   \n",
       "4     bot create free account create free account si...   Travel   \n",
       "...                                                 ...      ...   \n",
       "1403  old nude women porn mature granny sex horny ol...    Adult   \n",
       "1404  bdsm cams bdsm chat bondage cams free bdsm vid...    Adult   \n",
       "1405  porno dvd online european porn dvd cheap adult...    Adult   \n",
       "1406  anal dream house anal dream house anal dream h...    Adult   \n",
       "1407  world sex news daily sex news adult news eroti...    Adult   \n",
       "\n",
       "                                        tokenized_words  \n",
       "0     [official, site, good, hotel, accommodation, b...  \n",
       "1     [expedia, hotel, book, sites, like, use, vacat...  \n",
       "2     [tripadvisor, hotel, book, sites, like, previo...  \n",
       "3     [cheap, flights, search, compare, flights, mom...  \n",
       "4     [bot, create, free, account, create, free, acc...  \n",
       "...                                                 ...  \n",
       "1403  [old, nude, women, porn, mature, granny, sex, ...  \n",
       "1404  [bdsm, cams, bdsm, chat, bondage, cams, free, ...  \n",
       "1405  [porno, dvd, online, european, porn, dvd, chea...  \n",
       "1406  [anal, dream, house, anal, dream, house, anal,...  \n",
       "1407  [world, sex, news, daily, sex, news, adult, ne...  \n",
       "\n",
       "[1408 rows x 3 columns]"
      ]
     },
     "execution_count": 9,
     "metadata": {},
     "output_type": "execute_result"
    }
   ],
   "source": [
    "\n",
    "website_df['tokenized_words'] = website_df['tokenized_words'].apply(lambda x:[re.sub(f'[{string.punctuation}]+','',i) for i in x if i not in list(string.punctuation)])\n",
    "website_df\n",
    "                                                                    "
   ]
  },
  {
   "cell_type": "markdown",
   "metadata": {
    "papermill": {
     "duration": 0.048619,
     "end_time": "2022-04-12T07:22:34.986489",
     "exception": false,
     "start_time": "2022-04-12T07:22:34.937870",
     "status": "completed"
    },
    "tags": []
   },
   "source": [
    "#### Removing stopwords"
   ]
  },
  {
   "cell_type": "code",
   "execution_count": 10,
   "metadata": {
    "execution": {
     "iopub.execute_input": "2022-04-12T07:22:35.090292Z",
     "iopub.status.busy": "2022-04-12T07:22:35.089664Z",
     "iopub.status.idle": "2022-04-12T07:24:34.159794Z",
     "shell.execute_reply": "2022-04-12T07:24:34.160234Z",
     "shell.execute_reply.started": "2022-04-12T05:24:56.944083Z"
    },
    "papermill": {
     "duration": 119.124799,
     "end_time": "2022-04-12T07:24:34.160392",
     "exception": false,
     "start_time": "2022-04-12T07:22:35.035593",
     "status": "completed"
    },
    "tags": []
   },
   "outputs": [
    {
     "data": {
      "text/html": [
       "<div>\n",
       "<style scoped>\n",
       "    .dataframe tbody tr th:only-of-type {\n",
       "        vertical-align: middle;\n",
       "    }\n",
       "\n",
       "    .dataframe tbody tr th {\n",
       "        vertical-align: top;\n",
       "    }\n",
       "\n",
       "    .dataframe thead th {\n",
       "        text-align: right;\n",
       "    }\n",
       "</style>\n",
       "<table border=\"1\" class=\"dataframe\">\n",
       "  <thead>\n",
       "    <tr style=\"text-align: right;\">\n",
       "      <th></th>\n",
       "      <th>cleaned_website_text</th>\n",
       "      <th>Category</th>\n",
       "      <th>tokenized_words</th>\n",
       "    </tr>\n",
       "  </thead>\n",
       "  <tbody>\n",
       "    <tr>\n",
       "      <th>0</th>\n",
       "      <td>official site good hotel accommodation big sav...</td>\n",
       "      <td>Travel</td>\n",
       "      <td>[official, site, good, hotel, accommodation, b...</td>\n",
       "    </tr>\n",
       "    <tr>\n",
       "      <th>1</th>\n",
       "      <td>expedia hotel book sites like use vacation wor...</td>\n",
       "      <td>Travel</td>\n",
       "      <td>[expedia, hotel, book, sites, like, use, vacat...</td>\n",
       "    </tr>\n",
       "    <tr>\n",
       "      <th>2</th>\n",
       "      <td>tripadvisor hotel book sites like previously d...</td>\n",
       "      <td>Travel</td>\n",
       "      <td>[tripadvisor, hotel, book, sites, like, previo...</td>\n",
       "    </tr>\n",
       "    <tr>\n",
       "      <th>3</th>\n",
       "      <td>cheap flights search compare flights momondo f...</td>\n",
       "      <td>Travel</td>\n",
       "      <td>[cheap, flights, search, compare, flights, mom...</td>\n",
       "    </tr>\n",
       "    <tr>\n",
       "      <th>4</th>\n",
       "      <td>bot create free account create free account si...</td>\n",
       "      <td>Travel</td>\n",
       "      <td>[bot, create, free, account, create, free, acc...</td>\n",
       "    </tr>\n",
       "    <tr>\n",
       "      <th>...</th>\n",
       "      <td>...</td>\n",
       "      <td>...</td>\n",
       "      <td>...</td>\n",
       "    </tr>\n",
       "    <tr>\n",
       "      <th>1403</th>\n",
       "      <td>old nude women porn mature granny sex horny ol...</td>\n",
       "      <td>Adult</td>\n",
       "      <td>[old, nude, women, porn, mature, granny, sex, ...</td>\n",
       "    </tr>\n",
       "    <tr>\n",
       "      <th>1404</th>\n",
       "      <td>bdsm cams bdsm chat bondage cams free bdsm vid...</td>\n",
       "      <td>Adult</td>\n",
       "      <td>[bdsm, cams, bdsm, chat, bondage, cams, free, ...</td>\n",
       "    </tr>\n",
       "    <tr>\n",
       "      <th>1405</th>\n",
       "      <td>porno dvd online european porn dvd cheap adult...</td>\n",
       "      <td>Adult</td>\n",
       "      <td>[porno, dvd, online, european, porn, dvd, chea...</td>\n",
       "    </tr>\n",
       "    <tr>\n",
       "      <th>1406</th>\n",
       "      <td>anal dream house anal dream house anal dream h...</td>\n",
       "      <td>Adult</td>\n",
       "      <td>[anal, dream, house, anal, dream, house, anal,...</td>\n",
       "    </tr>\n",
       "    <tr>\n",
       "      <th>1407</th>\n",
       "      <td>world sex news daily sex news adult news eroti...</td>\n",
       "      <td>Adult</td>\n",
       "      <td>[world, sex, news, daily, sex, news, adult, ne...</td>\n",
       "    </tr>\n",
       "  </tbody>\n",
       "</table>\n",
       "<p>1408 rows × 3 columns</p>\n",
       "</div>"
      ],
      "text/plain": [
       "                                   cleaned_website_text Category  \\\n",
       "0     official site good hotel accommodation big sav...   Travel   \n",
       "1     expedia hotel book sites like use vacation wor...   Travel   \n",
       "2     tripadvisor hotel book sites like previously d...   Travel   \n",
       "3     cheap flights search compare flights momondo f...   Travel   \n",
       "4     bot create free account create free account si...   Travel   \n",
       "...                                                 ...      ...   \n",
       "1403  old nude women porn mature granny sex horny ol...    Adult   \n",
       "1404  bdsm cams bdsm chat bondage cams free bdsm vid...    Adult   \n",
       "1405  porno dvd online european porn dvd cheap adult...    Adult   \n",
       "1406  anal dream house anal dream house anal dream h...    Adult   \n",
       "1407  world sex news daily sex news adult news eroti...    Adult   \n",
       "\n",
       "                                        tokenized_words  \n",
       "0     [official, site, good, hotel, accommodation, b...  \n",
       "1     [expedia, hotel, book, sites, like, use, vacat...  \n",
       "2     [tripadvisor, hotel, book, sites, like, previo...  \n",
       "3     [cheap, flights, search, compare, flights, mom...  \n",
       "4     [bot, create, free, account, create, free, acc...  \n",
       "...                                                 ...  \n",
       "1403  [old, nude, women, porn, mature, granny, sex, ...  \n",
       "1404  [bdsm, cams, bdsm, chat, bondage, cams, free, ...  \n",
       "1405  [porno, dvd, online, european, porn, dvd, chea...  \n",
       "1406  [anal, dream, house, anal, dream, house, anal,...  \n",
       "1407  [world, sex, news, daily, sex, news, adult, ne...  \n",
       "\n",
       "[1408 rows x 3 columns]"
      ]
     },
     "execution_count": 10,
     "metadata": {},
     "output_type": "execute_result"
    }
   ],
   "source": [
    "from nltk.corpus import stopwords\n",
    "website_df['tokenized_words'] = website_df['tokenized_words'].apply(lambda x:[i for i in x if i not in stopwords.words('english')])\n",
    "website_df"
   ]
  },
  {
   "cell_type": "markdown",
   "metadata": {
    "papermill": {
     "duration": 0.048632,
     "end_time": "2022-04-12T07:24:34.257783",
     "exception": false,
     "start_time": "2022-04-12T07:24:34.209151",
     "status": "completed"
    },
    "tags": []
   },
   "source": [
    "#### Lemmatizing the words"
   ]
  },
  {
   "cell_type": "code",
   "execution_count": 11,
   "metadata": {
    "execution": {
     "iopub.execute_input": "2022-04-12T07:24:34.407788Z",
     "iopub.status.busy": "2022-04-12T07:24:34.406342Z",
     "iopub.status.idle": "2022-04-12T07:24:41.225274Z",
     "shell.execute_reply": "2022-04-12T07:24:41.224479Z",
     "shell.execute_reply.started": "2022-04-12T05:26:58.502491Z"
    },
    "papermill": {
     "duration": 6.91729,
     "end_time": "2022-04-12T07:24:41.225410",
     "exception": false,
     "start_time": "2022-04-12T07:24:34.308120",
     "status": "completed"
    },
    "tags": []
   },
   "outputs": [
    {
     "data": {
      "text/html": [
       "<div>\n",
       "<style scoped>\n",
       "    .dataframe tbody tr th:only-of-type {\n",
       "        vertical-align: middle;\n",
       "    }\n",
       "\n",
       "    .dataframe tbody tr th {\n",
       "        vertical-align: top;\n",
       "    }\n",
       "\n",
       "    .dataframe thead th {\n",
       "        text-align: right;\n",
       "    }\n",
       "</style>\n",
       "<table border=\"1\" class=\"dataframe\">\n",
       "  <thead>\n",
       "    <tr style=\"text-align: right;\">\n",
       "      <th></th>\n",
       "      <th>cleaned_website_text</th>\n",
       "      <th>Category</th>\n",
       "      <th>tokenized_words</th>\n",
       "    </tr>\n",
       "  </thead>\n",
       "  <tbody>\n",
       "    <tr>\n",
       "      <th>0</th>\n",
       "      <td>official site good hotel accommodation big sav...</td>\n",
       "      <td>Travel</td>\n",
       "      <td>[official, site, good, hotel, accommodation, b...</td>\n",
       "    </tr>\n",
       "    <tr>\n",
       "      <th>1</th>\n",
       "      <td>expedia hotel book sites like use vacation wor...</td>\n",
       "      <td>Travel</td>\n",
       "      <td>[expedia, hotel, book, site, like, use, vacati...</td>\n",
       "    </tr>\n",
       "    <tr>\n",
       "      <th>2</th>\n",
       "      <td>tripadvisor hotel book sites like previously d...</td>\n",
       "      <td>Travel</td>\n",
       "      <td>[tripadvisor, hotel, book, site, like, previou...</td>\n",
       "    </tr>\n",
       "    <tr>\n",
       "      <th>3</th>\n",
       "      <td>cheap flights search compare flights momondo f...</td>\n",
       "      <td>Travel</td>\n",
       "      <td>[cheap, flight, search, compare, flight, momon...</td>\n",
       "    </tr>\n",
       "    <tr>\n",
       "      <th>4</th>\n",
       "      <td>bot create free account create free account si...</td>\n",
       "      <td>Travel</td>\n",
       "      <td>[bot, create, free, account, create, free, acc...</td>\n",
       "    </tr>\n",
       "    <tr>\n",
       "      <th>...</th>\n",
       "      <td>...</td>\n",
       "      <td>...</td>\n",
       "      <td>...</td>\n",
       "    </tr>\n",
       "    <tr>\n",
       "      <th>1403</th>\n",
       "      <td>old nude women porn mature granny sex horny ol...</td>\n",
       "      <td>Adult</td>\n",
       "      <td>[old, nude, woman, porn, mature, granny, sex, ...</td>\n",
       "    </tr>\n",
       "    <tr>\n",
       "      <th>1404</th>\n",
       "      <td>bdsm cams bdsm chat bondage cams free bdsm vid...</td>\n",
       "      <td>Adult</td>\n",
       "      <td>[bdsm, cam, bdsm, chat, bondage, cam, free, bd...</td>\n",
       "    </tr>\n",
       "    <tr>\n",
       "      <th>1405</th>\n",
       "      <td>porno dvd online european porn dvd cheap adult...</td>\n",
       "      <td>Adult</td>\n",
       "      <td>[porno, dvd, online, european, porn, dvd, chea...</td>\n",
       "    </tr>\n",
       "    <tr>\n",
       "      <th>1406</th>\n",
       "      <td>anal dream house anal dream house anal dream h...</td>\n",
       "      <td>Adult</td>\n",
       "      <td>[anal, dream, house, anal, dream, house, anal,...</td>\n",
       "    </tr>\n",
       "    <tr>\n",
       "      <th>1407</th>\n",
       "      <td>world sex news daily sex news adult news eroti...</td>\n",
       "      <td>Adult</td>\n",
       "      <td>[world, sex, news, daily, sex, news, adult, ne...</td>\n",
       "    </tr>\n",
       "  </tbody>\n",
       "</table>\n",
       "<p>1408 rows × 3 columns</p>\n",
       "</div>"
      ],
      "text/plain": [
       "                                   cleaned_website_text Category  \\\n",
       "0     official site good hotel accommodation big sav...   Travel   \n",
       "1     expedia hotel book sites like use vacation wor...   Travel   \n",
       "2     tripadvisor hotel book sites like previously d...   Travel   \n",
       "3     cheap flights search compare flights momondo f...   Travel   \n",
       "4     bot create free account create free account si...   Travel   \n",
       "...                                                 ...      ...   \n",
       "1403  old nude women porn mature granny sex horny ol...    Adult   \n",
       "1404  bdsm cams bdsm chat bondage cams free bdsm vid...    Adult   \n",
       "1405  porno dvd online european porn dvd cheap adult...    Adult   \n",
       "1406  anal dream house anal dream house anal dream h...    Adult   \n",
       "1407  world sex news daily sex news adult news eroti...    Adult   \n",
       "\n",
       "                                        tokenized_words  \n",
       "0     [official, site, good, hotel, accommodation, b...  \n",
       "1     [expedia, hotel, book, site, like, use, vacati...  \n",
       "2     [tripadvisor, hotel, book, site, like, previou...  \n",
       "3     [cheap, flight, search, compare, flight, momon...  \n",
       "4     [bot, create, free, account, create, free, acc...  \n",
       "...                                                 ...  \n",
       "1403  [old, nude, woman, porn, mature, granny, sex, ...  \n",
       "1404  [bdsm, cam, bdsm, chat, bondage, cam, free, bd...  \n",
       "1405  [porno, dvd, online, european, porn, dvd, chea...  \n",
       "1406  [anal, dream, house, anal, dream, house, anal,...  \n",
       "1407  [world, sex, news, daily, sex, news, adult, ne...  \n",
       "\n",
       "[1408 rows x 3 columns]"
      ]
     },
     "execution_count": 11,
     "metadata": {},
     "output_type": "execute_result"
    }
   ],
   "source": [
    "from nltk.stem.wordnet import WordNetLemmatizer\n",
    "wordnetlemmatizer= WordNetLemmatizer()\n",
    "website_df['tokenized_words']=website_df['tokenized_words'].apply(lambda x:[wordnetlemmatizer.lemmatize(i) for i in x])\n",
    "website_df"
   ]
  },
  {
   "cell_type": "code",
   "execution_count": 12,
   "metadata": {
    "execution": {
     "iopub.execute_input": "2022-04-12T07:24:41.398765Z",
     "iopub.status.busy": "2022-04-12T07:24:41.397165Z",
     "iopub.status.idle": "2022-04-12T07:24:41.399342Z",
     "shell.execute_reply": "2022-04-12T07:24:41.399799Z",
     "shell.execute_reply.started": "2022-04-12T05:27:05.503662Z"
    },
    "papermill": {
     "duration": 0.114465,
     "end_time": "2022-04-12T07:24:41.399956",
     "exception": false,
     "start_time": "2022-04-12T07:24:41.285491",
     "status": "completed"
    },
    "tags": []
   },
   "outputs": [],
   "source": [
    "#### join the tokenized words\n",
    "website_df['tokenized_words']= website_df['tokenized_words'].apply(lambda x:' '.join(x))\n"
   ]
  },
  {
   "cell_type": "code",
   "execution_count": 13,
   "metadata": {
    "execution": {
     "iopub.execute_input": "2022-04-12T07:24:41.504767Z",
     "iopub.status.busy": "2022-04-12T07:24:41.503962Z",
     "iopub.status.idle": "2022-04-12T07:24:41.507789Z",
     "shell.execute_reply": "2022-04-12T07:24:41.508207Z",
     "shell.execute_reply.started": "2022-04-12T05:27:05.568585Z"
    },
    "papermill": {
     "duration": 0.058285,
     "end_time": "2022-04-12T07:24:41.508343",
     "exception": false,
     "start_time": "2022-04-12T07:24:41.450058",
     "status": "completed"
    },
    "tags": []
   },
   "outputs": [],
   "source": [
    "#dropping the unnecessary columns\n",
    "website_df.drop(['cleaned_website_text'],axis=1,inplace=True)\n"
   ]
  },
  {
   "cell_type": "code",
   "execution_count": 14,
   "metadata": {
    "execution": {
     "iopub.execute_input": "2022-04-12T07:24:41.619096Z",
     "iopub.status.busy": "2022-04-12T07:24:41.618390Z",
     "iopub.status.idle": "2022-04-12T07:24:41.621302Z",
     "shell.execute_reply": "2022-04-12T07:24:41.621691Z",
     "shell.execute_reply.started": "2022-04-12T05:27:05.577178Z"
    },
    "papermill": {
     "duration": 0.064034,
     "end_time": "2022-04-12T07:24:41.621843",
     "exception": false,
     "start_time": "2022-04-12T07:24:41.557809",
     "status": "completed"
    },
    "tags": []
   },
   "outputs": [
    {
     "data": {
      "text/html": [
       "<div>\n",
       "<style scoped>\n",
       "    .dataframe tbody tr th:only-of-type {\n",
       "        vertical-align: middle;\n",
       "    }\n",
       "\n",
       "    .dataframe tbody tr th {\n",
       "        vertical-align: top;\n",
       "    }\n",
       "\n",
       "    .dataframe thead th {\n",
       "        text-align: right;\n",
       "    }\n",
       "</style>\n",
       "<table border=\"1\" class=\"dataframe\">\n",
       "  <thead>\n",
       "    <tr style=\"text-align: right;\">\n",
       "      <th></th>\n",
       "      <th>Website Cleaned Text</th>\n",
       "      <th>Category</th>\n",
       "    </tr>\n",
       "  </thead>\n",
       "  <tbody>\n",
       "    <tr>\n",
       "      <th>0</th>\n",
       "      <td>official site good hotel accommodation big sav...</td>\n",
       "      <td>Travel</td>\n",
       "    </tr>\n",
       "    <tr>\n",
       "      <th>1</th>\n",
       "      <td>expedia hotel book site like use vacation work...</td>\n",
       "      <td>Travel</td>\n",
       "    </tr>\n",
       "    <tr>\n",
       "      <th>2</th>\n",
       "      <td>tripadvisor hotel book site like previously de...</td>\n",
       "      <td>Travel</td>\n",
       "    </tr>\n",
       "    <tr>\n",
       "      <th>3</th>\n",
       "      <td>cheap flight search compare flight momondo fin...</td>\n",
       "      <td>Travel</td>\n",
       "    </tr>\n",
       "    <tr>\n",
       "      <th>4</th>\n",
       "      <td>bot create free account create free account si...</td>\n",
       "      <td>Travel</td>\n",
       "    </tr>\n",
       "    <tr>\n",
       "      <th>...</th>\n",
       "      <td>...</td>\n",
       "      <td>...</td>\n",
       "    </tr>\n",
       "    <tr>\n",
       "      <th>1403</th>\n",
       "      <td>old nude woman porn mature granny sex horny ol...</td>\n",
       "      <td>Adult</td>\n",
       "    </tr>\n",
       "    <tr>\n",
       "      <th>1404</th>\n",
       "      <td>bdsm cam bdsm chat bondage cam free bdsm video...</td>\n",
       "      <td>Adult</td>\n",
       "    </tr>\n",
       "    <tr>\n",
       "      <th>1405</th>\n",
       "      <td>porno dvd online european porn dvd cheap adult...</td>\n",
       "      <td>Adult</td>\n",
       "    </tr>\n",
       "    <tr>\n",
       "      <th>1406</th>\n",
       "      <td>anal dream house anal dream house anal dream h...</td>\n",
       "      <td>Adult</td>\n",
       "    </tr>\n",
       "    <tr>\n",
       "      <th>1407</th>\n",
       "      <td>world sex news daily sex news adult news eroti...</td>\n",
       "      <td>Adult</td>\n",
       "    </tr>\n",
       "  </tbody>\n",
       "</table>\n",
       "<p>1408 rows × 2 columns</p>\n",
       "</div>"
      ],
      "text/plain": [
       "                                   Website Cleaned Text Category\n",
       "0     official site good hotel accommodation big sav...   Travel\n",
       "1     expedia hotel book site like use vacation work...   Travel\n",
       "2     tripadvisor hotel book site like previously de...   Travel\n",
       "3     cheap flight search compare flight momondo fin...   Travel\n",
       "4     bot create free account create free account si...   Travel\n",
       "...                                                 ...      ...\n",
       "1403  old nude woman porn mature granny sex horny ol...    Adult\n",
       "1404  bdsm cam bdsm chat bondage cam free bdsm video...    Adult\n",
       "1405  porno dvd online european porn dvd cheap adult...    Adult\n",
       "1406  anal dream house anal dream house anal dream h...    Adult\n",
       "1407  world sex news daily sex news adult news eroti...    Adult\n",
       "\n",
       "[1408 rows x 2 columns]"
      ]
     },
     "execution_count": 14,
     "metadata": {},
     "output_type": "execute_result"
    }
   ],
   "source": [
    "### changing the order of columns and renaming them\n",
    "\n",
    "website_df=website_df[['tokenized_words','Category']]\n",
    "website_df.columns=['Website Cleaned Text','Category']\n",
    "\n",
    "website_df"
   ]
  },
  {
   "cell_type": "code",
   "execution_count": 15,
   "metadata": {
    "execution": {
     "iopub.execute_input": "2022-04-12T07:24:41.727270Z",
     "iopub.status.busy": "2022-04-12T07:24:41.726481Z",
     "iopub.status.idle": "2022-04-12T07:24:41.728834Z",
     "shell.execute_reply": "2022-04-12T07:24:41.728380Z",
     "shell.execute_reply.started": "2022-04-12T05:27:05.596872Z"
    },
    "papermill": {
     "duration": 0.057684,
     "end_time": "2022-04-12T07:24:41.728950",
     "exception": false,
     "start_time": "2022-04-12T07:24:41.671266",
     "status": "completed"
    },
    "tags": []
   },
   "outputs": [],
   "source": [
    "#### converts the category to labels using label encoding\n",
    "from sklearn.preprocessing import LabelEncoder\n",
    "le=LabelEncoder()\n",
    "website_df['Category']= le.fit_transform(website_df['Category'])"
   ]
  },
  {
   "cell_type": "code",
   "execution_count": 16,
   "metadata": {
    "execution": {
     "iopub.execute_input": "2022-04-12T07:24:41.839116Z",
     "iopub.status.busy": "2022-04-12T07:24:41.838408Z",
     "iopub.status.idle": "2022-04-12T07:24:41.841306Z",
     "shell.execute_reply": "2022-04-12T07:24:41.841707Z",
     "shell.execute_reply.started": "2022-04-12T05:27:05.609012Z"
    },
    "papermill": {
     "duration": 0.063501,
     "end_time": "2022-04-12T07:24:41.841870",
     "exception": false,
     "start_time": "2022-04-12T07:24:41.778369",
     "status": "completed"
    },
    "tags": []
   },
   "outputs": [
    {
     "data": {
      "text/html": [
       "<div>\n",
       "<style scoped>\n",
       "    .dataframe tbody tr th:only-of-type {\n",
       "        vertical-align: middle;\n",
       "    }\n",
       "\n",
       "    .dataframe tbody tr th {\n",
       "        vertical-align: top;\n",
       "    }\n",
       "\n",
       "    .dataframe thead th {\n",
       "        text-align: right;\n",
       "    }\n",
       "</style>\n",
       "<table border=\"1\" class=\"dataframe\">\n",
       "  <thead>\n",
       "    <tr style=\"text-align: right;\">\n",
       "      <th></th>\n",
       "      <th>Website Cleaned Text</th>\n",
       "      <th>Category</th>\n",
       "    </tr>\n",
       "  </thead>\n",
       "  <tbody>\n",
       "    <tr>\n",
       "      <th>0</th>\n",
       "      <td>official site good hotel accommodation big sav...</td>\n",
       "      <td>15</td>\n",
       "    </tr>\n",
       "    <tr>\n",
       "      <th>1</th>\n",
       "      <td>expedia hotel book site like use vacation work...</td>\n",
       "      <td>15</td>\n",
       "    </tr>\n",
       "    <tr>\n",
       "      <th>2</th>\n",
       "      <td>tripadvisor hotel book site like previously de...</td>\n",
       "      <td>15</td>\n",
       "    </tr>\n",
       "    <tr>\n",
       "      <th>3</th>\n",
       "      <td>cheap flight search compare flight momondo fin...</td>\n",
       "      <td>15</td>\n",
       "    </tr>\n",
       "    <tr>\n",
       "      <th>4</th>\n",
       "      <td>bot create free account create free account si...</td>\n",
       "      <td>15</td>\n",
       "    </tr>\n",
       "    <tr>\n",
       "      <th>...</th>\n",
       "      <td>...</td>\n",
       "      <td>...</td>\n",
       "    </tr>\n",
       "    <tr>\n",
       "      <th>1403</th>\n",
       "      <td>old nude woman porn mature granny sex horny ol...</td>\n",
       "      <td>0</td>\n",
       "    </tr>\n",
       "    <tr>\n",
       "      <th>1404</th>\n",
       "      <td>bdsm cam bdsm chat bondage cam free bdsm video...</td>\n",
       "      <td>0</td>\n",
       "    </tr>\n",
       "    <tr>\n",
       "      <th>1405</th>\n",
       "      <td>porno dvd online european porn dvd cheap adult...</td>\n",
       "      <td>0</td>\n",
       "    </tr>\n",
       "    <tr>\n",
       "      <th>1406</th>\n",
       "      <td>anal dream house anal dream house anal dream h...</td>\n",
       "      <td>0</td>\n",
       "    </tr>\n",
       "    <tr>\n",
       "      <th>1407</th>\n",
       "      <td>world sex news daily sex news adult news eroti...</td>\n",
       "      <td>0</td>\n",
       "    </tr>\n",
       "  </tbody>\n",
       "</table>\n",
       "<p>1408 rows × 2 columns</p>\n",
       "</div>"
      ],
      "text/plain": [
       "                                   Website Cleaned Text  Category\n",
       "0     official site good hotel accommodation big sav...        15\n",
       "1     expedia hotel book site like use vacation work...        15\n",
       "2     tripadvisor hotel book site like previously de...        15\n",
       "3     cheap flight search compare flight momondo fin...        15\n",
       "4     bot create free account create free account si...        15\n",
       "...                                                 ...       ...\n",
       "1403  old nude woman porn mature granny sex horny ol...         0\n",
       "1404  bdsm cam bdsm chat bondage cam free bdsm video...         0\n",
       "1405  porno dvd online european porn dvd cheap adult...         0\n",
       "1406  anal dream house anal dream house anal dream h...         0\n",
       "1407  world sex news daily sex news adult news eroti...         0\n",
       "\n",
       "[1408 rows x 2 columns]"
      ]
     },
     "execution_count": 16,
     "metadata": {},
     "output_type": "execute_result"
    }
   ],
   "source": [
    "website_df"
   ]
  },
  {
   "cell_type": "code",
   "execution_count": 17,
   "metadata": {
    "execution": {
     "iopub.execute_input": "2022-04-12T07:24:41.949036Z",
     "iopub.status.busy": "2022-04-12T07:24:41.948155Z",
     "iopub.status.idle": "2022-04-12T07:24:41.952597Z",
     "shell.execute_reply": "2022-04-12T07:24:41.952173Z",
     "shell.execute_reply.started": "2022-04-12T05:27:05.631228Z"
    },
    "papermill": {
     "duration": 0.060519,
     "end_time": "2022-04-12T07:24:41.952740",
     "exception": false,
     "start_time": "2022-04-12T07:24:41.892221",
     "status": "completed"
    },
    "tags": []
   },
   "outputs": [],
   "source": [
    "from sklearn.model_selection import train_test_split\n",
    "X_train,X_test,y_train,y_test= train_test_split(website_df['Website Cleaned Text'],website_df['Category'],test_size=0.3,random_state=0)\n"
   ]
  },
  {
   "cell_type": "code",
   "execution_count": 18,
   "metadata": {
    "execution": {
     "iopub.execute_input": "2022-04-12T07:24:42.096119Z",
     "iopub.status.busy": "2022-04-12T07:24:42.068367Z",
     "iopub.status.idle": "2022-04-12T07:24:43.167838Z",
     "shell.execute_reply": "2022-04-12T07:24:43.168310Z",
     "shell.execute_reply.started": "2022-04-12T05:27:05.641852Z"
    },
    "papermill": {
     "duration": 1.163151,
     "end_time": "2022-04-12T07:24:43.168471",
     "exception": false,
     "start_time": "2022-04-12T07:24:42.005320",
     "status": "completed"
    },
    "tags": []
   },
   "outputs": [
    {
     "name": "stderr",
     "output_type": "stream",
     "text": [
      "/opt/conda/lib/python3.7/site-packages/sklearn/utils/deprecation.py:87: FutureWarning: Function get_feature_names is deprecated; get_feature_names is deprecated in 1.0 and will be removed in 1.2. Please use get_feature_names_out instead.\n",
      "  warnings.warn(msg, category=FutureWarning)\n"
     ]
    }
   ],
   "source": [
    "#### converting the text to frequency (using TF-IDF)\n",
    "from sklearn.feature_extraction.text import TfidfVectorizer\n",
    "tf_idf_vectorizer= TfidfVectorizer()\n",
    "X_train= tf_idf_vectorizer.fit_transform(X_train)\n",
    "X_train= pd.DataFrame(X_train.toarray(),columns=tf_idf_vectorizer.get_feature_names())\n",
    "\n"
   ]
  },
  {
   "cell_type": "code",
   "execution_count": 19,
   "metadata": {
    "execution": {
     "iopub.execute_input": "2022-04-12T07:24:43.278830Z",
     "iopub.status.busy": "2022-04-12T07:24:43.277880Z",
     "iopub.status.idle": "2022-04-12T07:24:43.281673Z",
     "shell.execute_reply": "2022-04-12T07:24:43.281263Z",
     "shell.execute_reply.started": "2022-04-12T05:27:06.803076Z"
    },
    "papermill": {
     "duration": 0.062562,
     "end_time": "2022-04-12T07:24:43.281801",
     "exception": false,
     "start_time": "2022-04-12T07:24:43.219239",
     "status": "completed"
    },
    "tags": []
   },
   "outputs": [
    {
     "data": {
      "text/plain": [
       "14    81\n",
       "4     77\n",
       "3     76\n",
       "13    75\n",
       "8     75\n",
       "7     72\n",
       "15    70\n",
       "1     69\n",
       "2     69\n",
       "12    65\n",
       "9     62\n",
       "10    59\n",
       "5     58\n",
       "11    54\n",
       "0     12\n",
       "6     11\n",
       "Name: Category, dtype: int64"
      ]
     },
     "execution_count": 19,
     "metadata": {},
     "output_type": "execute_result"
    }
   ],
   "source": [
    "y_train.value_counts()"
   ]
  },
  {
   "cell_type": "code",
   "execution_count": 20,
   "metadata": {
    "execution": {
     "iopub.execute_input": "2022-04-12T07:24:43.386875Z",
     "iopub.status.busy": "2022-04-12T07:24:43.386089Z",
     "iopub.status.idle": "2022-04-12T07:24:51.670630Z",
     "shell.execute_reply": "2022-04-12T07:24:51.671222Z",
     "shell.execute_reply.started": "2022-04-12T05:27:06.818155Z"
    },
    "papermill": {
     "duration": 8.339076,
     "end_time": "2022-04-12T07:24:51.671436",
     "exception": false,
     "start_time": "2022-04-12T07:24:43.332360",
     "status": "completed"
    },
    "tags": []
   },
   "outputs": [],
   "source": [
    "#### using the SMOTE/oversampler\n",
    "from imblearn.over_sampling import SMOTE,RandomOverSampler\n",
    "sampling_strategy={14:81,4:77,3:76,13:75,8:75,7:72,15:70,1:69,2:69,12:65,9:62,10:59,5:58,11:54,0:60,6:60}\n",
    "oversample = RandomOverSampler(sampling_strategy=sampling_strategy)\n",
    "X_train,y_train= oversample.fit_resample(X_train,y_train)\n"
   ]
  },
  {
   "cell_type": "code",
   "execution_count": 21,
   "metadata": {
    "execution": {
     "iopub.execute_input": "2022-04-12T07:24:51.778026Z",
     "iopub.status.busy": "2022-04-12T07:24:51.777210Z",
     "iopub.status.idle": "2022-04-12T07:24:51.784008Z",
     "shell.execute_reply": "2022-04-12T07:24:51.783578Z",
     "shell.execute_reply.started": "2022-04-12T05:27:14.776900Z"
    },
    "papermill": {
     "duration": 0.061537,
     "end_time": "2022-04-12T07:24:51.784121",
     "exception": false,
     "start_time": "2022-04-12T07:24:51.722584",
     "status": "completed"
    },
    "tags": []
   },
   "outputs": [
    {
     "data": {
      "text/plain": [
       "14    81\n",
       "4     77\n",
       "3     76\n",
       "13    75\n",
       "8     75\n",
       "7     72\n",
       "15    70\n",
       "1     69\n",
       "2     69\n",
       "12    65\n",
       "9     62\n",
       "6     60\n",
       "0     60\n",
       "10    59\n",
       "5     58\n",
       "11    54\n",
       "Name: Category, dtype: int64"
      ]
     },
     "execution_count": 21,
     "metadata": {},
     "output_type": "execute_result"
    }
   ],
   "source": [
    "y_train.value_counts()"
   ]
  },
  {
   "cell_type": "code",
   "execution_count": 22,
   "metadata": {
    "execution": {
     "iopub.execute_input": "2022-04-12T07:24:51.892481Z",
     "iopub.status.busy": "2022-04-12T07:24:51.891924Z",
     "iopub.status.idle": "2022-04-12T07:24:54.043205Z",
     "shell.execute_reply": "2022-04-12T07:24:54.043877Z",
     "shell.execute_reply.started": "2022-04-12T05:27:14.785747Z"
    },
    "papermill": {
     "duration": 2.208849,
     "end_time": "2022-04-12T07:24:54.044127",
     "exception": false,
     "start_time": "2022-04-12T07:24:51.835278",
     "status": "completed"
    },
    "tags": []
   },
   "outputs": [
    {
     "data": {
      "text/plain": [
       "MultinomialNB()"
      ]
     },
     "execution_count": 22,
     "metadata": {},
     "output_type": "execute_result"
    }
   ],
   "source": [
    "#### applying the algorithm\n",
    "from sklearn.naive_bayes import MultinomialNB\n",
    "model_clf= MultinomialNB()\n",
    "model_clf.fit(X_train,y_train)"
   ]
  },
  {
   "cell_type": "code",
   "execution_count": 23,
   "metadata": {
    "execution": {
     "iopub.execute_input": "2022-04-12T07:24:54.257978Z",
     "iopub.status.busy": "2022-04-12T07:24:54.217162Z",
     "iopub.status.idle": "2022-04-12T07:24:55.658962Z",
     "shell.execute_reply": "2022-04-12T07:24:55.660102Z",
     "shell.execute_reply.started": "2022-04-12T05:27:16.966683Z"
    },
    "papermill": {
     "duration": 1.517299,
     "end_time": "2022-04-12T07:24:55.660381",
     "exception": false,
     "start_time": "2022-04-12T07:24:54.143082",
     "status": "completed"
    },
    "tags": []
   },
   "outputs": [
    {
     "name": "stderr",
     "output_type": "stream",
     "text": [
      "/opt/conda/lib/python3.7/site-packages/sklearn/utils/deprecation.py:87: FutureWarning: Function get_feature_names is deprecated; get_feature_names is deprecated in 1.0 and will be removed in 1.2. Please use get_feature_names_out instead.\n",
      "  warnings.warn(msg, category=FutureWarning)\n"
     ]
    },
    {
     "name": "stdout",
     "output_type": "stream",
     "text": [
      "The accuracy of train model is 0.9953789279112755\n",
      "The accuracy of test model is 0.8912529550827423\n"
     ]
    }
   ],
   "source": [
    "\n",
    "X_test= tf_idf_vectorizer.transform(X_test)\n",
    "X_test= pd.DataFrame(X_test.toarray(),columns=tf_idf_vectorizer.get_feature_names())\n",
    "y_pred= model_clf.predict(X_test)\n",
    "print(f'The accuracy of train model is {sm.accuracy_score(y_train,model_clf.predict(X_train))}')\n",
    "print(f'The accuracy of test model is {sm.accuracy_score(y_test,y_pred)}')"
   ]
  },
  {
   "cell_type": "code",
   "execution_count": 24,
   "metadata": {
    "execution": {
     "iopub.execute_input": "2022-04-12T07:24:55.851585Z",
     "iopub.status.busy": "2022-04-12T07:24:55.841930Z",
     "iopub.status.idle": "2022-04-12T07:24:57.550860Z",
     "shell.execute_reply": "2022-04-12T07:24:57.551296Z",
     "shell.execute_reply.started": "2022-04-12T05:27:18.649813Z"
    },
    "papermill": {
     "duration": 1.792524,
     "end_time": "2022-04-12T07:24:57.551441",
     "exception": false,
     "start_time": "2022-04-12T07:24:55.758917",
     "status": "completed"
    },
    "tags": []
   },
   "outputs": [
    {
     "name": "stderr",
     "output_type": "stream",
     "text": [
      "/opt/conda/lib/python3.7/site-packages/sklearn/utils/deprecation.py:87: FutureWarning: Function plot_confusion_matrix is deprecated; Function `plot_confusion_matrix` is deprecated in 1.0 and will be removed in 1.2. Use one of the class methods: ConfusionMatrixDisplay.from_predictions or ConfusionMatrixDisplay.from_estimator.\n",
      "  warnings.warn(msg, category=FutureWarning)\n"
     ]
    },
    {
     "data": {
      "text/plain": [
       "<sklearn.metrics._plot.confusion_matrix.ConfusionMatrixDisplay at 0x7f5683e21b50>"
      ]
     },
     "execution_count": 24,
     "metadata": {},
     "output_type": "execute_result"
    },
    {
     "data": {
      "image/png": "[encoded data removed]",
      "text/plain": [
       "<Figure size 432x288 with 2 Axes>"
      ]
     },
     "metadata": {
      "needs_background": "light"
     },
     "output_type": "display_data"
    }
   ],
   "source": [
    "sm.plot_confusion_matrix(model_clf,X_test,y_test)"
   ]
  },
  {
   "cell_type": "markdown",
   "metadata": {
    "papermill": {
     "duration": 0.053938,
     "end_time": "2022-04-12T07:24:57.660185",
     "exception": false,
     "start_time": "2022-04-12T07:24:57.606247",
     "status": "completed"
    },
    "tags": []
   },
   "source": [
    "#### Initial Results seems to be good , But there is a small kind of overfitting"
   ]
  },
  {
   "cell_type": "code",
   "execution_count": 25,
   "metadata": {
    "execution": {
     "iopub.execute_input": "2022-04-12T07:24:57.775390Z",
     "iopub.status.busy": "2022-04-12T07:24:57.774558Z",
     "iopub.status.idle": "2022-04-12T07:26:39.021527Z",
     "shell.execute_reply": "2022-04-12T07:26:39.022521Z",
     "shell.execute_reply.started": "2022-04-12T05:27:20.310365Z"
    },
    "papermill": {
     "duration": 101.30871,
     "end_time": "2022-04-12T07:26:39.022825",
     "exception": false,
     "start_time": "2022-04-12T07:24:57.714115",
     "status": "completed"
    },
    "tags": []
   },
   "outputs": [
    {
     "name": "stdout",
     "output_type": "stream",
     "text": [
      "Fitting 5 folds for each of 12 candidates, totalling 60 fits\n",
      "[CV 1/5; 1/12] START alpha=0.5, fit_prior=True..................................\n",
      "[CV 1/5; 1/12] END alpha=0.5, fit_prior=True;, score=(train=0.994, test=0.912) total time=   1.1s\n",
      "[CV 2/5; 1/12] START alpha=0.5, fit_prior=True..................................\n",
      "[CV 2/5; 1/12] END alpha=0.5, fit_prior=True;, score=(train=0.997, test=0.931) total time=   1.2s\n",
      "[CV 3/5; 1/12] START alpha=0.5, fit_prior=True..................................\n",
      "[CV 3/5; 1/12] END alpha=0.5, fit_prior=True;, score=(train=0.995, test=0.907) total time=   1.1s\n",
      "[CV 4/5; 1/12] START alpha=0.5, fit_prior=True..................................\n",
      "[CV 4/5; 1/12] END alpha=0.5, fit_prior=True;, score=(train=0.997, test=0.866) total time=   1.1s\n",
      "[CV 5/5; 1/12] START alpha=0.5, fit_prior=True..................................\n",
      "[CV 5/5; 1/12] END alpha=0.5, fit_prior=True;, score=(train=0.993, test=0.917) total time=   1.1s\n",
      "[CV 1/5; 2/12] START alpha=0.5, fit_prior=False.................................\n",
      "[CV 1/5; 2/12] END alpha=0.5, fit_prior=False;, score=(train=0.994, test=0.931) total time=   1.1s\n",
      "[CV 2/5; 2/12] START alpha=0.5, fit_prior=False.................................\n",
      "[CV 2/5; 2/12] END alpha=0.5, fit_prior=False;, score=(train=0.997, test=0.940) total time=   1.1s\n",
      "[CV 3/5; 2/12] START alpha=0.5, fit_prior=False.................................\n",
      "[CV 3/5; 2/12] END alpha=0.5, fit_prior=False;, score=(train=0.998, test=0.917) total time=   1.1s\n",
      "[CV 4/5; 2/12] START alpha=0.5, fit_prior=False.................................\n",
      "[CV 4/5; 2/12] END alpha=0.5, fit_prior=False;, score=(train=0.998, test=0.875) total time=   1.1s\n",
      "[CV 5/5; 2/12] START alpha=0.5, fit_prior=False.................................\n",
      "[CV 5/5; 2/12] END alpha=0.5, fit_prior=False;, score=(train=0.993, test=0.940) total time=   1.1s\n",
      "[CV 1/5; 3/12] START alpha=0.7, fit_prior=True..................................\n",
      "[CV 1/5; 3/12] END alpha=0.7, fit_prior=True;, score=(train=0.994, test=0.908) total time=   1.1s\n",
      "[CV 2/5; 3/12] START alpha=0.7, fit_prior=True..................................\n",
      "[CV 2/5; 3/12] END alpha=0.7, fit_prior=True;, score=(train=0.997, test=0.926) total time=   1.2s\n",
      "[CV 3/5; 3/12] START alpha=0.7, fit_prior=True..................................\n",
      "[CV 3/5; 3/12] END alpha=0.7, fit_prior=True;, score=(train=0.995, test=0.898) total time=   1.5s\n",
      "[CV 4/5; 3/12] START alpha=0.7, fit_prior=True..................................\n",
      "[CV 4/5; 3/12] END alpha=0.7, fit_prior=True;, score=(train=0.997, test=0.856) total time=   1.1s\n",
      "[CV 5/5; 3/12] START alpha=0.7, fit_prior=True..................................\n",
      "[CV 5/5; 3/12] END alpha=0.7, fit_prior=True;, score=(train=0.993, test=0.907) total time=   1.1s\n",
      "[CV 1/5; 4/12] START alpha=0.7, fit_prior=False.................................\n",
      "[CV 1/5; 4/12] END alpha=0.7, fit_prior=False;, score=(train=0.994, test=0.931) total time=   1.1s\n",
      "[CV 2/5; 4/12] START alpha=0.7, fit_prior=False.................................\n",
      "[CV 2/5; 4/12] END alpha=0.7, fit_prior=False;, score=(train=0.995, test=0.940) total time=   1.1s\n",
      "[CV 3/5; 4/12] START alpha=0.7, fit_prior=False.................................\n",
      "[CV 3/5; 4/12] END alpha=0.7, fit_prior=False;, score=(train=0.995, test=0.921) total time=   1.1s\n",
      "[CV 4/5; 4/12] START alpha=0.7, fit_prior=False.................................\n",
      "[CV 4/5; 4/12] END alpha=0.7, fit_prior=False;, score=(train=0.995, test=0.870) total time=   1.1s\n",
      "[CV 5/5; 4/12] START alpha=0.7, fit_prior=False.................................\n",
      "[CV 5/5; 4/12] END alpha=0.7, fit_prior=False;, score=(train=0.993, test=0.935) total time=   1.1s\n",
      "[CV 1/5; 5/12] START alpha=0.9, fit_prior=True..................................\n",
      "[CV 1/5; 5/12] END alpha=0.9, fit_prior=True;, score=(train=0.994, test=0.903) total time=   1.1s\n",
      "[CV 2/5; 5/12] START alpha=0.9, fit_prior=True..................................\n",
      "[CV 2/5; 5/12] END alpha=0.9, fit_prior=True;, score=(train=0.995, test=0.899) total time=   1.1s\n",
      "[CV 3/5; 5/12] START alpha=0.9, fit_prior=True..................................\n",
      "[CV 3/5; 5/12] END alpha=0.9, fit_prior=True;, score=(train=0.995, test=0.889) total time=   1.1s\n",
      "[CV 4/5; 5/12] START alpha=0.9, fit_prior=True..................................\n",
      "[CV 4/5; 5/12] END alpha=0.9, fit_prior=True;, score=(train=0.997, test=0.856) total time=   1.1s\n",
      "[CV 5/5; 5/12] START alpha=0.9, fit_prior=True..................................\n",
      "[CV 5/5; 5/12] END alpha=0.9, fit_prior=True;, score=(train=0.994, test=0.907) total time=   1.1s\n",
      "[CV 1/5; 6/12] START alpha=0.9, fit_prior=False.................................\n",
      "[CV 1/5; 6/12] END alpha=0.9, fit_prior=False;, score=(train=0.994, test=0.931) total time=   1.3s\n",
      "[CV 2/5; 6/12] START alpha=0.9, fit_prior=False.................................\n",
      "[CV 2/5; 6/12] END alpha=0.9, fit_prior=False;, score=(train=0.995, test=0.940) total time=   1.1s\n",
      "[CV 3/5; 6/12] START alpha=0.9, fit_prior=False.................................\n",
      "[CV 3/5; 6/12] END alpha=0.9, fit_prior=False;, score=(train=0.995, test=0.921) total time=   1.1s\n",
      "[CV 4/5; 6/12] START alpha=0.9, fit_prior=False.................................\n",
      "[CV 4/5; 6/12] END alpha=0.9, fit_prior=False;, score=(train=0.995, test=0.870) total time=   1.1s\n",
      "[CV 5/5; 6/12] START alpha=0.9, fit_prior=False.................................\n",
      "[CV 5/5; 6/12] END alpha=0.9, fit_prior=False;, score=(train=0.993, test=0.935) total time=   1.1s\n",
      "[CV 1/5; 7/12] START alpha=1.1, fit_prior=True..................................\n",
      "[CV 1/5; 7/12] END alpha=1.1, fit_prior=True;, score=(train=0.994, test=0.903) total time=   1.1s\n",
      "[CV 2/5; 7/12] START alpha=1.1, fit_prior=True..................................\n",
      "[CV 2/5; 7/12] END alpha=1.1, fit_prior=True;, score=(train=0.995, test=0.880) total time=   1.3s\n",
      "[CV 3/5; 7/12] START alpha=1.1, fit_prior=True..................................\n",
      "[CV 3/5; 7/12] END alpha=1.1, fit_prior=True;, score=(train=0.995, test=0.884) total time=   1.3s\n",
      "[CV 4/5; 7/12] START alpha=1.1, fit_prior=True..................................\n",
      "[CV 4/5; 7/12] END alpha=1.1, fit_prior=True;, score=(train=0.997, test=0.856) total time=   1.1s\n",
      "[CV 5/5; 7/12] START alpha=1.1, fit_prior=True..................................\n",
      "[CV 5/5; 7/12] END alpha=1.1, fit_prior=True;, score=(train=0.994, test=0.894) total time=   1.1s\n",
      "[CV 1/5; 8/12] START alpha=1.1, fit_prior=False.................................\n",
      "[CV 1/5; 8/12] END alpha=1.1, fit_prior=False;, score=(train=0.994, test=0.926) total time=   1.1s\n",
      "[CV 2/5; 8/12] START alpha=1.1, fit_prior=False.................................\n",
      "[CV 2/5; 8/12] END alpha=1.1, fit_prior=False;, score=(train=0.995, test=0.935) total time=   1.1s\n",
      "[CV 3/5; 8/12] START alpha=1.1, fit_prior=False.................................\n",
      "[CV 3/5; 8/12] END alpha=1.1, fit_prior=False;, score=(train=0.995, test=0.917) total time=   1.1s\n",
      "[CV 4/5; 8/12] START alpha=1.1, fit_prior=False.................................\n",
      "[CV 4/5; 8/12] END alpha=1.1, fit_prior=False;, score=(train=0.995, test=0.870) total time=   1.2s\n",
      "[CV 5/5; 8/12] START alpha=1.1, fit_prior=False.................................\n",
      "[CV 5/5; 8/12] END alpha=1.1, fit_prior=False;, score=(train=0.993, test=0.935) total time=   1.2s\n",
      "[CV 1/5; 9/12] START alpha=1.3, fit_prior=True..................................\n",
      "[CV 1/5; 9/12] END alpha=1.3, fit_prior=True;, score=(train=0.993, test=0.894) total time=   1.1s\n",
      "[CV 2/5; 9/12] START alpha=1.3, fit_prior=True..................................\n",
      "[CV 2/5; 9/12] END alpha=1.3, fit_prior=True;, score=(train=0.995, test=0.876) total time=   1.1s\n",
      "[CV 3/5; 9/12] START alpha=1.3, fit_prior=True..................................\n",
      "[CV 3/5; 9/12] END alpha=1.3, fit_prior=True;, score=(train=0.995, test=0.875) total time=   1.1s\n",
      "[CV 4/5; 9/12] START alpha=1.3, fit_prior=True..................................\n",
      "[CV 4/5; 9/12] END alpha=1.3, fit_prior=True;, score=(train=0.997, test=0.856) total time=   1.1s\n",
      "[CV 5/5; 9/12] START alpha=1.3, fit_prior=True..................................\n",
      "[CV 5/5; 9/12] END alpha=1.3, fit_prior=True;, score=(train=0.994, test=0.889) total time=   1.1s\n",
      "[CV 1/5; 10/12] START alpha=1.3, fit_prior=False................................\n",
      "[CV 1/5; 10/12] END alpha=1.3, fit_prior=False;, score=(train=0.994, test=0.926) total time=   1.3s\n",
      "[CV 2/5; 10/12] START alpha=1.3, fit_prior=False................................\n",
      "[CV 2/5; 10/12] END alpha=1.3, fit_prior=False;, score=(train=0.997, test=0.931) total time=   1.1s\n",
      "[CV 3/5; 10/12] START alpha=1.3, fit_prior=False................................\n",
      "[CV 3/5; 10/12] END alpha=1.3, fit_prior=False;, score=(train=0.995, test=0.917) total time=   1.1s\n",
      "[CV 4/5; 10/12] START alpha=1.3, fit_prior=False................................\n",
      "[CV 4/5; 10/12] END alpha=1.3, fit_prior=False;, score=(train=0.995, test=0.870) total time=   1.1s\n",
      "[CV 5/5; 10/12] START alpha=1.3, fit_prior=False................................\n",
      "[CV 5/5; 10/12] END alpha=1.3, fit_prior=False;, score=(train=0.992, test=0.935) total time=   1.1s\n",
      "[CV 1/5; 11/12] START alpha=1.5, fit_prior=True.................................\n",
      "[CV 1/5; 11/12] END alpha=1.5, fit_prior=True;, score=(train=0.992, test=0.889) total time=   1.1s\n",
      "[CV 2/5; 11/12] START alpha=1.5, fit_prior=True.................................\n",
      "[CV 2/5; 11/12] END alpha=1.5, fit_prior=True;, score=(train=0.993, test=0.866) total time=   1.6s\n",
      "[CV 3/5; 11/12] START alpha=1.5, fit_prior=True.................................\n",
      "[CV 3/5; 11/12] END alpha=1.5, fit_prior=True;, score=(train=0.993, test=0.870) total time=   1.1s\n",
      "[CV 4/5; 11/12] START alpha=1.5, fit_prior=True.................................\n",
      "[CV 4/5; 11/12] END alpha=1.5, fit_prior=True;, score=(train=0.995, test=0.856) total time=   1.1s\n",
      "[CV 5/5; 11/12] START alpha=1.5, fit_prior=True.................................\n",
      "[CV 5/5; 11/12] END alpha=1.5, fit_prior=True;, score=(train=0.994, test=0.884) total time=   1.1s\n",
      "[CV 1/5; 12/12] START alpha=1.5, fit_prior=False................................\n",
      "[CV 1/5; 12/12] END alpha=1.5, fit_prior=False;, score=(train=0.993, test=0.926) total time=   1.1s\n",
      "[CV 2/5; 12/12] START alpha=1.5, fit_prior=False................................\n",
      "[CV 2/5; 12/12] END alpha=1.5, fit_prior=False;, score=(train=0.995, test=0.935) total time=   1.1s\n",
      "[CV 3/5; 12/12] START alpha=1.5, fit_prior=False................................\n",
      "[CV 3/5; 12/12] END alpha=1.5, fit_prior=False;, score=(train=0.995, test=0.917) total time=   1.1s\n",
      "[CV 4/5; 12/12] START alpha=1.5, fit_prior=False................................\n",
      "[CV 4/5; 12/12] END alpha=1.5, fit_prior=False;, score=(train=0.995, test=0.870) total time=   1.3s\n",
      "[CV 5/5; 12/12] START alpha=1.5, fit_prior=False................................\n",
      "[CV 5/5; 12/12] END alpha=1.5, fit_prior=False;, score=(train=0.992, test=0.931) total time=   1.1s\n"
     ]
    },
    {
     "data": {
      "text/plain": [
       "GridSearchCV(cv=5, error_score=0, estimator=MultinomialNB(),\n",
       "             param_grid={'alpha': array([0.5, 0.7, 0.9, 1.1, 1.3, 1.5]),\n",
       "                         'fit_prior': [True, False]},\n",
       "             return_train_score=True, scoring='accuracy', verbose=10)"
      ]
     },
     "execution_count": 25,
     "metadata": {},
     "output_type": "execute_result"
    }
   ],
   "source": [
    "### tuning the hyperparameters of multinomialnb via gridsearchcv\n",
    "from sklearn.model_selection import GridSearchCV\n",
    "model_clf= MultinomialNB()\n",
    "param_grid= {'alpha':np.linspace(0.5, 1.5, 6),'fit_prior':[True,False]}\n",
    "grid_model= GridSearchCV(model_clf,param_grid=param_grid,cv=5,return_train_score=True,scoring='accuracy',verbose=10,error_score=0)\n",
    "grid_model.fit(X_train,y_train)\n"
   ]
  },
  {
   "cell_type": "code",
   "execution_count": 26,
   "metadata": {
    "execution": {
     "iopub.execute_input": "2022-04-12T07:26:39.226003Z",
     "iopub.status.busy": "2022-04-12T07:26:39.224947Z",
     "iopub.status.idle": "2022-04-12T07:26:39.228548Z",
     "shell.execute_reply": "2022-04-12T07:26:39.227927Z",
     "shell.execute_reply.started": "2022-04-12T05:29:06.118477Z"
    },
    "papermill": {
     "duration": 0.081289,
     "end_time": "2022-04-12T07:26:39.228697",
     "exception": false,
     "start_time": "2022-04-12T07:26:39.147408",
     "status": "completed"
    },
    "tags": []
   },
   "outputs": [
    {
     "name": "stdout",
     "output_type": "stream",
     "text": [
      "The best params are: {'alpha': 0.5, 'fit_prior': False} \n",
      "The best score are: 0.920489844683393 \n"
     ]
    }
   ],
   "source": [
    "print(f'The best params are: {grid_model.best_params_} ')\n",
    "print(f'The best score are: {grid_model.best_score_} ')"
   ]
  },
  {
   "cell_type": "code",
   "execution_count": 27,
   "metadata": {
    "execution": {
     "iopub.execute_input": "2022-04-12T07:26:39.420832Z",
     "iopub.status.busy": "2022-04-12T07:26:39.405713Z",
     "iopub.status.idle": "2022-04-12T07:26:40.910496Z",
     "shell.execute_reply": "2022-04-12T07:26:40.911634Z",
     "shell.execute_reply.started": "2022-04-12T05:29:06.140830Z"
    },
    "papermill": {
     "duration": 1.606657,
     "end_time": "2022-04-12T07:26:40.911904",
     "exception": false,
     "start_time": "2022-04-12T07:26:39.305247",
     "status": "completed"
    },
    "tags": []
   },
   "outputs": [
    {
     "name": "stdout",
     "output_type": "stream",
     "text": [
      "The accuracy of train model after tuning is 0.9935304990757856\n",
      "The accuracy of test model after tuning is 0.9125295508274232\n"
     ]
    }
   ],
   "source": [
    "model_clf= MultinomialNB(**grid_model.best_params_)\n",
    "model_clf.fit(X_train,y_train)\n",
    "y_pred= model_clf.predict(X_test)\n",
    "print(f'The accuracy of train model after tuning is {sm.accuracy_score(y_train,model_clf.predict(X_train))}')\n",
    "print(f'The accuracy of test model after tuning is {sm.accuracy_score(y_test,y_pred)}')\n"
   ]
  },
  {
   "cell_type": "code",
   "execution_count": 28,
   "metadata": {
    "execution": {
     "iopub.execute_input": "2022-04-12T07:26:41.134440Z",
     "iopub.status.busy": "2022-04-12T07:26:41.133621Z",
     "iopub.status.idle": "2022-04-12T07:26:42.436834Z",
     "shell.execute_reply": "2022-04-12T07:26:42.437368Z",
     "shell.execute_reply.started": "2022-04-12T05:29:07.765343Z"
    },
    "papermill": {
     "duration": 1.394409,
     "end_time": "2022-04-12T07:26:42.437560",
     "exception": false,
     "start_time": "2022-04-12T07:26:41.043151",
     "status": "completed"
    },
    "tags": []
   },
   "outputs": [
    {
     "name": "stderr",
     "output_type": "stream",
     "text": [
      "/opt/conda/lib/python3.7/site-packages/sklearn/utils/deprecation.py:87: FutureWarning: Function plot_confusion_matrix is deprecated; Function `plot_confusion_matrix` is deprecated in 1.0 and will be removed in 1.2. Use one of the class methods: ConfusionMatrixDisplay.from_predictions or ConfusionMatrixDisplay.from_estimator.\n",
      "  warnings.warn(msg, category=FutureWarning)\n"
     ]
    },
    {
     "data": {
      "text/plain": [
       "<Figure size 3600x1728 with 0 Axes>"
      ]
     },
     "metadata": {},
     "output_type": "display_data"
    },
    {
     "data": {
      "image/png": "[encoded data removed]",
      "text/plain": [
       "<Figure size 432x288 with 2 Axes>"
      ]
     },
     "metadata": {
      "needs_background": "light"
     },
     "output_type": "display_data"
    }
   ],
   "source": [
    "plt.figure(figsize=(50,24))\n",
    "sm.plot_confusion_matrix(model_clf,X_test,y_test)\n",
    "plt.show()"
   ]
  },
  {
   "cell_type": "code",
   "execution_count": 29,
   "metadata": {
    "execution": {
     "iopub.execute_input": "2022-04-12T07:26:42.618109Z",
     "iopub.status.busy": "2022-04-12T07:26:42.617163Z",
     "iopub.status.idle": "2022-04-12T07:26:42.627463Z",
     "shell.execute_reply": "2022-04-12T07:26:42.626800Z",
     "shell.execute_reply.started": "2022-04-12T05:29:09.229367Z"
    },
    "papermill": {
     "duration": 0.101233,
     "end_time": "2022-04-12T07:26:42.627602",
     "exception": false,
     "start_time": "2022-04-12T07:26:42.526369",
     "status": "completed"
    },
    "tags": []
   },
   "outputs": [
    {
     "name": "stdout",
     "output_type": "stream",
     "text": [
      "              precision    recall  f1-score   support\n",
      "\n",
      "           0       0.80      1.00      0.89         4\n",
      "           1       0.94      0.78      0.85        40\n",
      "           2       0.84      0.88      0.86        24\n",
      "           3       0.86      0.92      0.89        26\n",
      "           4       0.95      0.97      0.96        37\n",
      "           5       1.00      0.94      0.97        34\n",
      "           6       0.50      0.40      0.44         5\n",
      "           7       1.00      0.85      0.92        26\n",
      "           8       0.83      0.95      0.89        21\n",
      "           9       1.00      0.95      0.98        22\n",
      "          10       0.82      0.89      0.86        37\n",
      "          11       1.00      0.92      0.96        39\n",
      "          12       1.00      0.94      0.97        18\n",
      "          13       0.94      1.00      0.97        29\n",
      "          14       0.85      0.92      0.88        24\n",
      "          15       0.88      0.97      0.92        37\n",
      "\n",
      "    accuracy                           0.91       423\n",
      "   macro avg       0.89      0.89      0.89       423\n",
      "weighted avg       0.92      0.91      0.91       423\n",
      "\n"
     ]
    }
   ],
   "source": [
    "print(sm.classification_report(y_test,y_pred))"
   ]
  },
  {
   "cell_type": "markdown",
   "metadata": {
    "papermill": {
     "duration": 0.083897,
     "end_time": "2022-04-12T07:26:42.797224",
     "exception": false,
     "start_time": "2022-04-12T07:26:42.713327",
     "status": "completed"
    },
    "tags": []
   },
   "source": [
    "#### Model (Multinomial NB) is good after hyperparameter tuning in- terms of accuracy, percision and recall. \n",
    "\n",
    "#### But for class(label) 0 & 6, recall & precision seems to be showing good value after proper oversampling........... "
   ]
  },
  {
   "cell_type": "code",
   "execution_count": 30,
   "metadata": {
    "execution": {
     "iopub.execute_input": "2022-04-12T07:26:42.978695Z",
     "iopub.status.busy": "2022-04-12T07:26:42.977845Z",
     "iopub.status.idle": "2022-04-12T07:27:35.865775Z",
     "shell.execute_reply": "2022-04-12T07:27:35.866206Z",
     "shell.execute_reply.started": "2022-04-12T05:29:09.243942Z"
    },
    "papermill": {
     "duration": 52.985989,
     "end_time": "2022-04-12T07:27:35.866353",
     "exception": false,
     "start_time": "2022-04-12T07:26:42.880364",
     "status": "completed"
    },
    "tags": []
   },
   "outputs": [
    {
     "data": {
      "text/plain": [
       "SVC()"
      ]
     },
     "execution_count": 30,
     "metadata": {},
     "output_type": "execute_result"
    }
   ],
   "source": [
    "from sklearn.svm import SVC\n",
    "svc_clf= SVC()\n",
    "svc_clf.fit(X_train,y_train)"
   ]
  },
  {
   "cell_type": "code",
   "execution_count": 31,
   "metadata": {
    "execution": {
     "iopub.execute_input": "2022-04-12T07:27:36.036754Z",
     "iopub.status.busy": "2022-04-12T07:27:36.035974Z",
     "iopub.status.idle": "2022-04-12T07:29:31.823479Z",
     "shell.execute_reply": "2022-04-12T07:29:31.824611Z",
     "shell.execute_reply.started": "2022-04-12T05:30:13.162694Z"
    },
    "papermill": {
     "duration": 115.882865,
     "end_time": "2022-04-12T07:29:31.824965",
     "exception": false,
     "start_time": "2022-04-12T07:27:35.942100",
     "status": "completed"
    },
    "tags": []
   },
   "outputs": [
    {
     "name": "stdout",
     "output_type": "stream",
     "text": [
      "The accuracy of train model is 1.0\n",
      "The accuracy of test model is 0.8770685579196218\n"
     ]
    }
   ],
   "source": [
    "y_pred= svc_clf.predict(X_test)\n",
    "print(f'The accuracy of train model is {sm.accuracy_score(y_train,svc_clf.predict(X_train))}')\n",
    "print(f'The accuracy of test model is {sm.accuracy_score(y_test,y_pred)}')"
   ]
  },
  {
   "cell_type": "code",
   "execution_count": 32,
   "metadata": {
    "execution": {
     "iopub.execute_input": "2022-04-12T07:29:32.078869Z",
     "iopub.status.busy": "2022-04-12T07:29:32.077775Z",
     "iopub.status.idle": "2022-04-12T07:30:05.380044Z",
     "shell.execute_reply": "2022-04-12T07:30:05.380455Z",
     "shell.execute_reply.started": "2022-04-12T05:32:15.914315Z"
    },
    "papermill": {
     "duration": 33.428695,
     "end_time": "2022-04-12T07:30:05.380600",
     "exception": false,
     "start_time": "2022-04-12T07:29:31.951905",
     "status": "completed"
    },
    "tags": []
   },
   "outputs": [
    {
     "name": "stderr",
     "output_type": "stream",
     "text": [
      "/opt/conda/lib/python3.7/site-packages/sklearn/utils/deprecation.py:87: FutureWarning: Function plot_confusion_matrix is deprecated; Function `plot_confusion_matrix` is deprecated in 1.0 and will be removed in 1.2. Use one of the class methods: ConfusionMatrixDisplay.from_predictions or ConfusionMatrixDisplay.from_estimator.\n",
      "  warnings.warn(msg, category=FutureWarning)\n"
     ]
    },
    {
     "data": {
      "text/plain": [
       "<sklearn.metrics._plot.confusion_matrix.ConfusionMatrixDisplay at 0x7f568472a9d0>"
      ]
     },
     "execution_count": 32,
     "metadata": {},
     "output_type": "execute_result"
    },
    {
     "data": {
      "image/png": "[encoded data removed]",
      "text/plain": [
       "<Figure size 432x288 with 2 Axes>"
      ]
     },
     "metadata": {
      "needs_background": "light"
     },
     "output_type": "display_data"
    }
   ],
   "source": [
    "sm.plot_confusion_matrix(svc_clf,X_test,y_test)"
   ]
  },
  {
   "cell_type": "code",
   "execution_count": 33,
   "metadata": {
    "execution": {
     "iopub.execute_input": "2022-04-12T07:30:05.545483Z",
     "iopub.status.busy": "2022-04-12T07:30:05.542928Z",
     "iopub.status.idle": "2022-04-12T08:12:59.857437Z",
     "shell.execute_reply": "2022-04-12T08:12:59.858109Z",
     "shell.execute_reply.started": "2022-04-12T05:32:50.973593Z"
    },
    "papermill": {
     "duration": 2574.399185,
     "end_time": "2022-04-12T08:12:59.858308",
     "exception": false,
     "start_time": "2022-04-12T07:30:05.459123",
     "status": "completed"
    },
    "tags": []
   },
   "outputs": [
    {
     "name": "stdout",
     "output_type": "stream",
     "text": [
      "Fitting 5 folds for each of 5 candidates, totalling 25 fits\n",
      "[CV 1/5; 1/5] START C=0.1.......................................................\n",
      "[CV 1/5; 1/5] END ....C=0.1;, score=(train=0.106, test=0.088) total time=  49.0s\n",
      "[CV 2/5; 1/5] START C=0.1.......................................................\n",
      "[CV 2/5; 1/5] END ....C=0.1;, score=(train=0.109, test=0.097) total time=  48.2s\n",
      "[CV 3/5; 1/5] START C=0.1.......................................................\n",
      "[CV 3/5; 1/5] END ....C=0.1;, score=(train=0.090, test=0.102) total time=  49.1s\n",
      "[CV 4/5; 1/5] START C=0.1.......................................................\n",
      "[CV 4/5; 1/5] END ....C=0.1;, score=(train=0.097, test=0.097) total time=  48.6s\n",
      "[CV 5/5; 1/5] START C=0.1.......................................................\n",
      "[CV 5/5; 1/5] END ....C=0.1;, score=(train=0.103, test=0.097) total time=  48.9s\n",
      "[CV 1/5; 2/5] START C=1.........................................................\n",
      "[CV 1/5; 2/5] END ......C=1;, score=(train=1.000, test=0.912) total time=  45.4s\n",
      "[CV 2/5; 2/5] START C=1.........................................................\n",
      "[CV 2/5; 2/5] END ......C=1;, score=(train=1.000, test=0.825) total time=  44.5s\n",
      "[CV 3/5; 2/5] START C=1.........................................................\n",
      "[CV 3/5; 2/5] END ......C=1;, score=(train=1.000, test=0.852) total time=  44.7s\n",
      "[CV 4/5; 2/5] START C=1.........................................................\n",
      "[CV 4/5; 2/5] END ......C=1;, score=(train=1.000, test=0.838) total time=  46.3s\n",
      "[CV 5/5; 2/5] START C=1.........................................................\n",
      "[CV 5/5; 2/5] END ......C=1;, score=(train=1.000, test=0.894) total time=  46.6s\n",
      "[CV 1/5; 3/5] START C=10........................................................\n",
      "[CV 1/5; 3/5] END .....C=10;, score=(train=1.000, test=0.922) total time=  45.2s\n",
      "[CV 2/5; 3/5] START C=10........................................................\n",
      "[CV 2/5; 3/5] END .....C=10;, score=(train=1.000, test=0.866) total time=  44.6s\n",
      "[CV 3/5; 3/5] START C=10........................................................\n",
      "[CV 3/5; 3/5] END .....C=10;, score=(train=1.000, test=0.880) total time=  44.2s\n",
      "[CV 4/5; 3/5] START C=10........................................................\n",
      "[CV 4/5; 3/5] END .....C=10;, score=(train=1.000, test=0.866) total time=  45.2s\n",
      "[CV 5/5; 3/5] START C=10........................................................\n",
      "[CV 5/5; 3/5] END .....C=10;, score=(train=1.000, test=0.917) total time=  44.9s\n",
      "[CV 1/5; 4/5] START C=100.......................................................\n",
      "[CV 1/5; 4/5] END ....C=100;, score=(train=1.000, test=0.922) total time=  44.9s\n",
      "[CV 2/5; 4/5] START C=100.......................................................\n",
      "[CV 2/5; 4/5] END ....C=100;, score=(train=1.000, test=0.866) total time=  45.3s\n",
      "[CV 3/5; 4/5] START C=100.......................................................\n",
      "[CV 3/5; 4/5] END ....C=100;, score=(train=1.000, test=0.880) total time=  45.6s\n",
      "[CV 4/5; 4/5] START C=100.......................................................\n",
      "[CV 4/5; 4/5] END ....C=100;, score=(train=1.000, test=0.866) total time=  44.5s\n",
      "[CV 5/5; 4/5] START C=100.......................................................\n",
      "[CV 5/5; 4/5] END ....C=100;, score=(train=1.000, test=0.917) total time=  45.0s\n",
      "[CV 1/5; 5/5] START C=1000......................................................\n",
      "[CV 1/5; 5/5] END ...C=1000;, score=(train=1.000, test=0.922) total time=  44.6s\n",
      "[CV 2/5; 5/5] START C=1000......................................................\n",
      "[CV 2/5; 5/5] END ...C=1000;, score=(train=1.000, test=0.866) total time=  45.1s\n",
      "[CV 3/5; 5/5] START C=1000......................................................\n",
      "[CV 3/5; 5/5] END ...C=1000;, score=(train=1.000, test=0.880) total time=  44.9s\n",
      "[CV 4/5; 5/5] START C=1000......................................................\n",
      "[CV 4/5; 5/5] END ...C=1000;, score=(train=1.000, test=0.866) total time=  44.3s\n",
      "[CV 5/5; 5/5] START C=1000......................................................\n",
      "[CV 5/5; 5/5] END ...C=1000;, score=(train=1.000, test=0.917) total time=  44.5s\n"
     ]
    },
    {
     "data": {
      "text/plain": [
       "GridSearchCV(cv=5, error_score=0, estimator=SVC(),\n",
       "             param_grid={'C': [0.1, 1, 10, 100, 1000]}, return_train_score=True,\n",
       "             scoring='accuracy', verbose=10)"
      ]
     },
     "execution_count": 33,
     "metadata": {},
     "output_type": "execute_result"
    }
   ],
   "source": [
    "### studying with respect to Regularization parameter:\n",
    "\n",
    "estimator= SVC()\n",
    "#parameters= {'C':[0.1,1,10,100,1000],'kernel':['polynomial', 'rbf', 'sigmoid','linear'],'gamma':[1,0.1,0.01,0.001]}\n",
    "parameters= {'C':[0.1,1,10,100,1000]}\n",
    "svc_clf= GridSearchCV(estimator=estimator,param_grid=parameters,cv=5,return_train_score=True,scoring='accuracy',verbose=10,error_score=0)\n",
    "svc_clf.fit(X_train,y_train)\n"
   ]
  },
  {
   "cell_type": "code",
   "execution_count": 34,
   "metadata": {
    "execution": {
     "iopub.execute_input": "2022-04-12T08:13:00.148384Z",
     "iopub.status.busy": "2022-04-12T08:13:00.147496Z",
     "iopub.status.idle": "2022-04-12T08:13:00.151115Z",
     "shell.execute_reply": "2022-04-12T08:13:00.149088Z",
     "shell.execute_reply.started": "2022-04-12T05:36:55.617591Z"
    },
    "papermill": {
     "duration": 0.152013,
     "end_time": "2022-04-12T08:13:00.151274",
     "exception": false,
     "start_time": "2022-04-12T08:12:59.999261",
     "status": "completed"
    },
    "tags": []
   },
   "outputs": [
    {
     "name": "stdout",
     "output_type": "stream",
     "text": [
      "The best params are: {'C': 10} \n",
      "The best score are: 0.8900110940433521 \n"
     ]
    }
   ],
   "source": [
    "print(f'The best params are: {svc_clf.best_params_} ')\n",
    "print(f'The best score are: {svc_clf.best_score_} ')"
   ]
  },
  {
   "cell_type": "code",
   "execution_count": 35,
   "metadata": {
    "execution": {
     "iopub.execute_input": "2022-04-12T08:13:00.383903Z",
     "iopub.status.busy": "2022-04-12T08:13:00.363715Z",
     "iopub.status.idle": "2022-04-12T08:13:00.386882Z",
     "shell.execute_reply": "2022-04-12T08:13:00.387296Z",
     "shell.execute_reply.started": "2022-04-12T05:36:55.619271Z"
    },
    "papermill": {
     "duration": 0.117788,
     "end_time": "2022-04-12T08:13:00.387434",
     "exception": false,
     "start_time": "2022-04-12T08:13:00.269646",
     "status": "completed"
    },
    "tags": []
   },
   "outputs": [
    {
     "data": {
      "text/html": [
       "<div>\n",
       "<style scoped>\n",
       "    .dataframe tbody tr th:only-of-type {\n",
       "        vertical-align: middle;\n",
       "    }\n",
       "\n",
       "    .dataframe tbody tr th {\n",
       "        vertical-align: top;\n",
       "    }\n",
       "\n",
       "    .dataframe thead th {\n",
       "        text-align: right;\n",
       "    }\n",
       "</style>\n",
       "<table border=\"1\" class=\"dataframe\">\n",
       "  <thead>\n",
       "    <tr style=\"text-align: right;\">\n",
       "      <th></th>\n",
       "      <th>mean_fit_time</th>\n",
       "      <th>std_fit_time</th>\n",
       "      <th>mean_score_time</th>\n",
       "      <th>std_score_time</th>\n",
       "      <th>param_C</th>\n",
       "      <th>params</th>\n",
       "      <th>split0_test_score</th>\n",
       "      <th>split1_test_score</th>\n",
       "      <th>split2_test_score</th>\n",
       "      <th>split3_test_score</th>\n",
       "      <th>...</th>\n",
       "      <th>mean_test_score</th>\n",
       "      <th>std_test_score</th>\n",
       "      <th>rank_test_score</th>\n",
       "      <th>split0_train_score</th>\n",
       "      <th>split1_train_score</th>\n",
       "      <th>split2_train_score</th>\n",
       "      <th>split3_train_score</th>\n",
       "      <th>split4_train_score</th>\n",
       "      <th>mean_train_score</th>\n",
       "      <th>std_train_score</th>\n",
       "    </tr>\n",
       "  </thead>\n",
       "  <tbody>\n",
       "    <tr>\n",
       "      <th>0</th>\n",
       "      <td>33.523956</td>\n",
       "      <td>0.365305</td>\n",
       "      <td>15.230978</td>\n",
       "      <td>0.277906</td>\n",
       "      <td>0.1</td>\n",
       "      <td>{'C': 0.1}</td>\n",
       "      <td>0.087558</td>\n",
       "      <td>0.096774</td>\n",
       "      <td>0.101852</td>\n",
       "      <td>0.097222</td>\n",
       "      <td>...</td>\n",
       "      <td>0.096126</td>\n",
       "      <td>0.004670</td>\n",
       "      <td>5</td>\n",
       "      <td>0.106358</td>\n",
       "      <td>0.108671</td>\n",
       "      <td>0.090069</td>\n",
       "      <td>0.096998</td>\n",
       "      <td>0.102771</td>\n",
       "      <td>0.100973</td>\n",
       "      <td>0.006726</td>\n",
       "    </tr>\n",
       "    <tr>\n",
       "      <th>1</th>\n",
       "      <td>31.969918</td>\n",
       "      <td>0.642155</td>\n",
       "      <td>13.506857</td>\n",
       "      <td>0.270773</td>\n",
       "      <td>1</td>\n",
       "      <td>{'C': 1}</td>\n",
       "      <td>0.912442</td>\n",
       "      <td>0.824885</td>\n",
       "      <td>0.851852</td>\n",
       "      <td>0.837963</td>\n",
       "      <td>...</td>\n",
       "      <td>0.864132</td>\n",
       "      <td>0.033387</td>\n",
       "      <td>4</td>\n",
       "      <td>1.000000</td>\n",
       "      <td>1.000000</td>\n",
       "      <td>1.000000</td>\n",
       "      <td>1.000000</td>\n",
       "      <td>1.000000</td>\n",
       "      <td>1.000000</td>\n",
       "      <td>0.000000</td>\n",
       "    </tr>\n",
       "    <tr>\n",
       "      <th>2</th>\n",
       "      <td>31.324762</td>\n",
       "      <td>0.332624</td>\n",
       "      <td>13.485719</td>\n",
       "      <td>0.227307</td>\n",
       "      <td>10</td>\n",
       "      <td>{'C': 10}</td>\n",
       "      <td>0.921659</td>\n",
       "      <td>0.866359</td>\n",
       "      <td>0.879630</td>\n",
       "      <td>0.865741</td>\n",
       "      <td>...</td>\n",
       "      <td>0.890011</td>\n",
       "      <td>0.024365</td>\n",
       "      <td>1</td>\n",
       "      <td>1.000000</td>\n",
       "      <td>1.000000</td>\n",
       "      <td>1.000000</td>\n",
       "      <td>1.000000</td>\n",
       "      <td>1.000000</td>\n",
       "      <td>1.000000</td>\n",
       "      <td>0.000000</td>\n",
       "    </tr>\n",
       "    <tr>\n",
       "      <th>3</th>\n",
       "      <td>31.794690</td>\n",
       "      <td>0.346689</td>\n",
       "      <td>13.270658</td>\n",
       "      <td>0.198464</td>\n",
       "      <td>100</td>\n",
       "      <td>{'C': 100}</td>\n",
       "      <td>0.921659</td>\n",
       "      <td>0.866359</td>\n",
       "      <td>0.879630</td>\n",
       "      <td>0.865741</td>\n",
       "      <td>...</td>\n",
       "      <td>0.890011</td>\n",
       "      <td>0.024365</td>\n",
       "      <td>1</td>\n",
       "      <td>1.000000</td>\n",
       "      <td>1.000000</td>\n",
       "      <td>1.000000</td>\n",
       "      <td>1.000000</td>\n",
       "      <td>1.000000</td>\n",
       "      <td>1.000000</td>\n",
       "      <td>0.000000</td>\n",
       "    </tr>\n",
       "    <tr>\n",
       "      <th>4</th>\n",
       "      <td>31.487071</td>\n",
       "      <td>0.279213</td>\n",
       "      <td>13.189745</td>\n",
       "      <td>0.077461</td>\n",
       "      <td>1000</td>\n",
       "      <td>{'C': 1000}</td>\n",
       "      <td>0.921659</td>\n",
       "      <td>0.866359</td>\n",
       "      <td>0.879630</td>\n",
       "      <td>0.865741</td>\n",
       "      <td>...</td>\n",
       "      <td>0.890011</td>\n",
       "      <td>0.024365</td>\n",
       "      <td>1</td>\n",
       "      <td>1.000000</td>\n",
       "      <td>1.000000</td>\n",
       "      <td>1.000000</td>\n",
       "      <td>1.000000</td>\n",
       "      <td>1.000000</td>\n",
       "      <td>1.000000</td>\n",
       "      <td>0.000000</td>\n",
       "    </tr>\n",
       "  </tbody>\n",
       "</table>\n",
       "<p>5 rows × 21 columns</p>\n",
       "</div>"
      ],
      "text/plain": [
       "   mean_fit_time  std_fit_time  mean_score_time  std_score_time param_C  \\\n",
       "0      33.523956      0.365305        15.230978        0.277906     0.1   \n",
       "1      31.969918      0.642155        13.506857        0.270773       1   \n",
       "2      31.324762      0.332624        13.485719        0.227307      10   \n",
       "3      31.794690      0.346689        13.270658        0.198464     100   \n",
       "4      31.487071      0.279213        13.189745        0.077461    1000   \n",
       "\n",
       "        params  split0_test_score  split1_test_score  split2_test_score  \\\n",
       "0   {'C': 0.1}           0.087558           0.096774           0.101852   \n",
       "1     {'C': 1}           0.912442           0.824885           0.851852   \n",
       "2    {'C': 10}           0.921659           0.866359           0.879630   \n",
       "3   {'C': 100}           0.921659           0.866359           0.879630   \n",
       "4  {'C': 1000}           0.921659           0.866359           0.879630   \n",
       "\n",
       "   split3_test_score  ...  mean_test_score  std_test_score  rank_test_score  \\\n",
       "0           0.097222  ...         0.096126        0.004670                5   \n",
       "1           0.837963  ...         0.864132        0.033387                4   \n",
       "2           0.865741  ...         0.890011        0.024365                1   \n",
       "3           0.865741  ...         0.890011        0.024365                1   \n",
       "4           0.865741  ...         0.890011        0.024365                1   \n",
       "\n",
       "   split0_train_score  split1_train_score  split2_train_score  \\\n",
       "0            0.106358            0.108671            0.090069   \n",
       "1            1.000000            1.000000            1.000000   \n",
       "2            1.000000            1.000000            1.000000   \n",
       "3            1.000000            1.000000            1.000000   \n",
       "4            1.000000            1.000000            1.000000   \n",
       "\n",
       "   split3_train_score  split4_train_score  mean_train_score  std_train_score  \n",
       "0            0.096998            0.102771          0.100973         0.006726  \n",
       "1            1.000000            1.000000          1.000000         0.000000  \n",
       "2            1.000000            1.000000          1.000000         0.000000  \n",
       "3            1.000000            1.000000          1.000000         0.000000  \n",
       "4            1.000000            1.000000          1.000000         0.000000  \n",
       "\n",
       "[5 rows x 21 columns]"
      ]
     },
     "execution_count": 35,
     "metadata": {},
     "output_type": "execute_result"
    }
   ],
   "source": [
    "df_results_C= pd.DataFrame(svc_clf.cv_results_)\n",
    "df_results_C"
   ]
  },
  {
   "cell_type": "code",
   "execution_count": 36,
   "metadata": {
    "execution": {
     "iopub.execute_input": "2022-04-12T08:13:00.579810Z",
     "iopub.status.busy": "2022-04-12T08:13:00.578903Z",
     "iopub.status.idle": "2022-04-12T08:13:00.748651Z",
     "shell.execute_reply": "2022-04-12T08:13:00.748218Z",
     "shell.execute_reply.started": "2022-04-12T05:36:55.620941Z"
    },
    "papermill": {
     "duration": 0.273891,
     "end_time": "2022-04-12T08:13:00.748801",
     "exception": false,
     "start_time": "2022-04-12T08:13:00.474910",
     "status": "completed"
    },
    "tags": []
   },
   "outputs": [
    {
     "data": {
      "image/png": "[encoded data removed]",
      "text/plain": [
       "<Figure size 432x288 with 1 Axes>"
      ]
     },
     "metadata": {
      "needs_background": "light"
     },
     "output_type": "display_data"
    }
   ],
   "source": [
    "#plotting C with accuracy \n",
    "plt.plot(df_results_C['param_C'],df_results_C['mean_test_score'], label='test score')\n",
    "plt.plot(df_results_C['param_C'],df_results_C['mean_train_score'], label='train score')\n",
    "plt.title('C vs accuracy')\n",
    "plt.xlabel('C')\n",
    "plt.ylabel('accuracy')\n",
    "plt.legend()\n",
    "plt.show()"
   ]
  },
  {
   "cell_type": "code",
   "execution_count": 37,
   "metadata": {
    "execution": {
     "iopub.execute_input": "2022-04-12T08:13:00.945107Z",
     "iopub.status.busy": "2022-04-12T08:13:00.928508Z",
     "iopub.status.idle": "2022-04-12T08:15:45.919903Z",
     "shell.execute_reply": "2022-04-12T08:15:45.920349Z",
     "shell.execute_reply.started": "2022-04-12T05:36:55.622582Z"
    },
    "papermill": {
     "duration": 165.083067,
     "end_time": "2022-04-12T08:15:45.920518",
     "exception": false,
     "start_time": "2022-04-12T08:13:00.837451",
     "status": "completed"
    },
    "tags": []
   },
   "outputs": [
    {
     "name": "stdout",
     "output_type": "stream",
     "text": [
      "The accuracy of train model is 1.0\n",
      "The accuracy of test model is 0.8841607565011821\n"
     ]
    }
   ],
   "source": [
    "svc_clf_C= SVC(C=10)\n",
    "svc_clf_C.fit(X_train,y_train)\n",
    "y_pred= svc_clf_C.predict(X_test)\n",
    "print(f'The accuracy of train model is {sm.accuracy_score(y_train,svc_clf_C.predict(X_train))}')\n",
    "print(f'The accuracy of test model is {sm.accuracy_score(y_test,y_pred)}')"
   ]
  },
  {
   "cell_type": "code",
   "execution_count": 38,
   "metadata": {
    "execution": {
     "iopub.execute_input": "2022-04-12T08:15:46.114163Z",
     "iopub.status.busy": "2022-04-12T08:15:46.113284Z",
     "iopub.status.idle": "2022-04-12T08:34:19.744696Z",
     "shell.execute_reply": "2022-04-12T08:34:19.745209Z",
     "shell.execute_reply.started": "2022-04-12T05:36:55.624253Z"
    },
    "papermill": {
     "duration": 1113.72809,
     "end_time": "2022-04-12T08:34:19.745369",
     "exception": false,
     "start_time": "2022-04-12T08:15:46.017279",
     "status": "completed"
    },
    "tags": []
   },
   "outputs": [
    {
     "name": "stdout",
     "output_type": "stream",
     "text": [
      "Fitting 5 folds for each of 4 candidates, totalling 20 fits\n",
      "[CV 1/5; 1/4] START kernel=polynomial...........................................\n",
      "[CV 1/5; 1/4] END kernel=polynomial;, score=(train=0.000, test=0.000) total time=   0.9s\n",
      "[CV 2/5; 1/4] START kernel=polynomial...........................................\n",
      "[CV 2/5; 1/4] END kernel=polynomial;, score=(train=0.000, test=0.000) total time=   0.9s\n",
      "[CV 3/5; 1/4] START kernel=polynomial...........................................\n",
      "[CV 3/5; 1/4] END kernel=polynomial;, score=(train=0.000, test=0.000) total time=   1.0s\n",
      "[CV 4/5; 1/4] START kernel=polynomial...........................................\n",
      "[CV 4/5; 1/4] END kernel=polynomial;, score=(train=0.000, test=0.000) total time=   1.2s\n",
      "[CV 5/5; 1/4] START kernel=polynomial...........................................\n",
      "[CV 5/5; 1/4] END kernel=polynomial;, score=(train=0.000, test=0.000) total time=   0.9s\n",
      "[CV 1/5; 2/4] START kernel=rbf..................................................\n",
      "[CV 1/5; 2/4] END kernel=rbf;, score=(train=1.000, test=0.912) total time=  45.6s\n",
      "[CV 2/5; 2/4] START kernel=rbf..................................................\n",
      "[CV 2/5; 2/4] END kernel=rbf;, score=(train=1.000, test=0.825) total time=  46.3s\n",
      "[CV 3/5; 2/4] START kernel=rbf..................................................\n",
      "[CV 3/5; 2/4] END kernel=rbf;, score=(train=1.000, test=0.852) total time=  46.3s\n",
      "[CV 4/5; 2/4] START kernel=rbf..................................................\n",
      "[CV 4/5; 2/4] END kernel=rbf;, score=(train=1.000, test=0.838) total time=  46.5s\n",
      "[CV 5/5; 2/4] START kernel=rbf..................................................\n",
      "[CV 5/5; 2/4] END kernel=rbf;, score=(train=1.000, test=0.894) total time=  46.1s\n",
      "[CV 1/5; 3/4] START kernel=sigmoid..............................................\n",
      "[CV 1/5; 3/4] END kernel=sigmoid;, score=(train=1.000, test=0.945) total time=  33.9s\n",
      "[CV 2/5; 3/4] START kernel=sigmoid..............................................\n",
      "[CV 2/5; 3/4] END kernel=sigmoid;, score=(train=0.999, test=0.903) total time=  34.3s\n",
      "[CV 3/5; 3/4] START kernel=sigmoid..............................................\n",
      "[CV 3/5; 3/4] END kernel=sigmoid;, score=(train=0.998, test=0.903) total time=  34.0s\n",
      "[CV 4/5; 3/4] START kernel=sigmoid..............................................\n",
      "[CV 4/5; 3/4] END kernel=sigmoid;, score=(train=1.000, test=0.898) total time=  33.3s\n",
      "[CV 5/5; 3/4] START kernel=sigmoid..............................................\n",
      "[CV 5/5; 3/4] END kernel=sigmoid;, score=(train=0.998, test=0.935) total time=  34.6s\n",
      "[CV 1/5; 4/4] START kernel=linear...............................................\n",
      "[CV 1/5; 4/4] END kernel=linear;, score=(train=1.000, test=0.940) total time=  35.6s\n",
      "[CV 2/5; 4/4] START kernel=linear...............................................\n",
      "[CV 2/5; 4/4] END kernel=linear;, score=(train=1.000, test=0.908) total time=  35.5s\n",
      "[CV 3/5; 4/4] START kernel=linear...............................................\n",
      "[CV 3/5; 4/4] END kernel=linear;, score=(train=1.000, test=0.903) total time=  34.8s\n",
      "[CV 4/5; 4/4] START kernel=linear...............................................\n",
      "[CV 4/5; 4/4] END kernel=linear;, score=(train=1.000, test=0.894) total time=  35.3s\n",
      "[CV 5/5; 4/4] START kernel=linear...............................................\n",
      "[CV 5/5; 4/4] END kernel=linear;, score=(train=1.000, test=0.935) total time=  35.5s\n"
     ]
    },
    {
     "name": "stderr",
     "output_type": "stream",
     "text": [
      "/opt/conda/lib/python3.7/site-packages/sklearn/model_selection/_validation.py:372: FitFailedWarning: \n",
      "5 fits failed out of a total of 20.\n",
      "The score on these train-test partitions for these parameters will be set to 0.\n",
      "If these failures are not expected, you can try to debug them by setting error_score='raise'.\n",
      "\n",
      "Below are more details about the failures:\n",
      "--------------------------------------------------------------------------------\n",
      "5 fits failed with the following error:\n",
      "Traceback (most recent call last):\n",
      "  File \"/opt/conda/lib/python3.7/site-packages/sklearn/model_selection/_validation.py\", line 681, in _fit_and_score\n",
      "    estimator.fit(X_train, y_train, **fit_params)\n",
      "  File \"/opt/conda/lib/python3.7/site-packages/sklearn/svm/_base.py\", line 255, in fit\n",
      "    fit(X, y, sample_weight, solver_type, kernel, random_seed=seed)\n",
      "  File \"/opt/conda/lib/python3.7/site-packages/sklearn/svm/_base.py\", line 333, in _dense_fit\n",
      "    random_seed=random_seed,\n",
      "  File \"sklearn/svm/_libsvm.pyx\", line 176, in sklearn.svm._libsvm.fit\n",
      "ValueError: 'polynomial' is not in list\n",
      "\n",
      "  warnings.warn(some_fits_failed_message, FitFailedWarning)\n"
     ]
    },
    {
     "name": "stdout",
     "output_type": "stream",
     "text": [
      "The best params are: {'kernel': 'sigmoid'} \n",
      "The best score are: 0.9168074756784433 \n"
     ]
    }
   ],
   "source": [
    "### studying with respect to kernel parameter:\n",
    "\n",
    "estimator= SVC()\n",
    "#parameters= {'C':[0.1,1,10,100,1000],'kernel':['polynomial', 'rbf', 'sigmoid','linear'],'gamma':[1,0.1,0.01,0.001]}\n",
    "parameters= {'kernel':['polynomial', 'rbf', 'sigmoid','linear']}\n",
    "svc_clf= GridSearchCV(estimator=estimator,param_grid=parameters,cv=5,return_train_score=True,scoring='accuracy',verbose=10,error_score=0)\n",
    "svc_clf.fit(X_train,y_train)\n",
    "print(f'The best params are: {svc_clf.best_params_} ')\n",
    "print(f'The best score are: {svc_clf.best_score_} ')"
   ]
  },
  {
   "cell_type": "code",
   "execution_count": 39,
   "metadata": {
    "execution": {
     "iopub.execute_input": "2022-04-12T08:34:19.965282Z",
     "iopub.status.busy": "2022-04-12T08:34:19.955130Z",
     "iopub.status.idle": "2022-04-12T08:35:48.244171Z",
     "shell.execute_reply": "2022-04-12T08:35:48.244639Z",
     "shell.execute_reply.started": "2022-04-12T05:36:55.625871Z"
    },
    "papermill": {
     "duration": 88.403567,
     "end_time": "2022-04-12T08:35:48.244813",
     "exception": false,
     "start_time": "2022-04-12T08:34:19.841246",
     "status": "completed"
    },
    "tags": []
   },
   "outputs": [
    {
     "name": "stdout",
     "output_type": "stream",
     "text": [
      "The accuracy of train model is 0.9981515711645101\n",
      "The accuracy of test model is 0.9101654846335697\n"
     ]
    }
   ],
   "source": [
    "svc_clf_kernel= SVC(kernel='sigmoid')\n",
    "svc_clf_kernel.fit(X_train,y_train)\n",
    "y_pred= svc_clf_kernel.predict(X_test)\n",
    "print(f'The accuracy of train model is {sm.accuracy_score(y_train,svc_clf_kernel.predict(X_train))}')\n",
    "print(f'The accuracy of test model is {sm.accuracy_score(y_test,y_pred)}')"
   ]
  },
  {
   "cell_type": "code",
   "execution_count": 40,
   "metadata": {
    "execution": {
     "iopub.execute_input": "2022-04-12T08:35:48.466283Z",
     "iopub.status.busy": "2022-04-12T08:35:48.465243Z",
     "iopub.status.idle": "2022-04-12T08:36:01.423835Z",
     "shell.execute_reply": "2022-04-12T08:36:01.423376Z",
     "shell.execute_reply.started": "2022-04-12T05:36:55.627522Z"
    },
    "papermill": {
     "duration": 13.078541,
     "end_time": "2022-04-12T08:36:01.423968",
     "exception": false,
     "start_time": "2022-04-12T08:35:48.345427",
     "status": "completed"
    },
    "tags": []
   },
   "outputs": [
    {
     "name": "stderr",
     "output_type": "stream",
     "text": [
      "/opt/conda/lib/python3.7/site-packages/sklearn/utils/deprecation.py:87: FutureWarning: Function plot_confusion_matrix is deprecated; Function `plot_confusion_matrix` is deprecated in 1.0 and will be removed in 1.2. Use one of the class methods: ConfusionMatrixDisplay.from_predictions or ConfusionMatrixDisplay.from_estimator.\n",
      "  warnings.warn(msg, category=FutureWarning)\n"
     ]
    },
    {
     "data": {
      "text/plain": [
       "<sklearn.metrics._plot.confusion_matrix.ConfusionMatrixDisplay at 0x7f56862a1c10>"
      ]
     },
     "execution_count": 40,
     "metadata": {},
     "output_type": "execute_result"
    },
    {
     "data": {
      "image/png": "[encoded data removed]",
      "text/plain": [
       "<Figure size 432x288 with 2 Axes>"
      ]
     },
     "metadata": {
      "needs_background": "light"
     },
     "output_type": "display_data"
    }
   ],
   "source": [
    "sm.plot_confusion_matrix(svc_clf_kernel,X_test,y_test)"
   ]
  },
  {
   "cell_type": "code",
   "execution_count": 41,
   "metadata": {
    "execution": {
     "iopub.execute_input": "2022-04-12T08:36:01.628427Z",
     "iopub.status.busy": "2022-04-12T08:36:01.627025Z",
     "iopub.status.idle": "2022-04-12T09:11:51.044041Z",
     "shell.execute_reply": "2022-04-12T09:11:51.044515Z",
     "shell.execute_reply.started": "2022-04-12T05:37:20.070717Z"
    },
    "papermill": {
     "duration": 2149.522543,
     "end_time": "2022-04-12T09:11:51.044677",
     "exception": false,
     "start_time": "2022-04-12T08:36:01.522134",
     "status": "completed"
    },
    "tags": []
   },
   "outputs": [
    {
     "name": "stdout",
     "output_type": "stream",
     "text": [
      "Fitting 5 folds for each of 4 candidates, totalling 20 fits\n",
      "[CV 1/5; 1/4] START gamma=1.....................................................\n",
      "[CV 1/5; 1/4] END ..gamma=1;, score=(train=1.000, test=0.912) total time=  45.9s\n",
      "[CV 2/5; 1/4] START gamma=1.....................................................\n",
      "[CV 2/5; 1/4] END ..gamma=1;, score=(train=1.000, test=0.825) total time=  44.8s\n",
      "[CV 3/5; 1/4] START gamma=1.....................................................\n",
      "[CV 3/5; 1/4] END ..gamma=1;, score=(train=1.000, test=0.852) total time=  46.9s\n",
      "[CV 4/5; 1/4] START gamma=1.....................................................\n",
      "[CV 4/5; 1/4] END ..gamma=1;, score=(train=1.000, test=0.838) total time=  46.9s\n",
      "[CV 5/5; 1/4] START gamma=1.....................................................\n",
      "[CV 5/5; 1/4] END ..gamma=1;, score=(train=1.000, test=0.894) total time=  45.8s\n",
      "[CV 1/5; 2/4] START gamma=0.1...................................................\n",
      "[CV 1/5; 2/4] END gamma=0.1;, score=(train=0.664, test=0.558) total time=  46.5s\n",
      "[CV 2/5; 2/4] START gamma=0.1...................................................\n",
      "[CV 2/5; 2/4] END gamma=0.1;, score=(train=0.637, test=0.512) total time=  46.2s\n",
      "[CV 3/5; 2/4] START gamma=0.1...................................................\n",
      "[CV 3/5; 2/4] END gamma=0.1;, score=(train=0.613, test=0.523) total time=  47.0s\n",
      "[CV 4/5; 2/4] START gamma=0.1...................................................\n",
      "[CV 4/5; 2/4] END gamma=0.1;, score=(train=0.678, test=0.528) total time=  46.8s\n",
      "[CV 5/5; 2/4] START gamma=0.1...................................................\n",
      "[CV 5/5; 2/4] END gamma=0.1;, score=(train=0.667, test=0.574) total time=  47.0s\n",
      "[CV 1/5; 3/4] START gamma=0.01..................................................\n",
      "[CV 1/5; 3/4] END gamma=0.01;, score=(train=0.075, test=0.074) total time=  47.6s\n",
      "[CV 2/5; 3/4] START gamma=0.01..................................................\n",
      "[CV 2/5; 3/4] END gamma=0.01;, score=(train=0.074, test=0.078) total time=  47.2s\n",
      "[CV 3/5; 3/4] START gamma=0.01..................................................\n",
      "[CV 3/5; 3/4] END gamma=0.01;, score=(train=0.075, test=0.074) total time=  48.1s\n",
      "[CV 4/5; 3/4] START gamma=0.01..................................................\n",
      "[CV 4/5; 3/4] END gamma=0.01;, score=(train=0.075, test=0.074) total time=  48.3s\n",
      "[CV 5/5; 3/4] START gamma=0.01..................................................\n",
      "[CV 5/5; 3/4] END gamma=0.01;, score=(train=0.075, test=0.074) total time=  47.2s\n",
      "[CV 1/5; 4/4] START gamma=0.001.................................................\n",
      "[CV 1/5; 4/4] END gamma=0.001;, score=(train=0.075, test=0.074) total time=  47.9s\n",
      "[CV 2/5; 4/4] START gamma=0.001.................................................\n",
      "[CV 2/5; 4/4] END gamma=0.001;, score=(train=0.074, test=0.078) total time=  48.6s\n",
      "[CV 3/5; 4/4] START gamma=0.001.................................................\n",
      "[CV 3/5; 4/4] END gamma=0.001;, score=(train=0.075, test=0.074) total time=  47.8s\n",
      "[CV 4/5; 4/4] START gamma=0.001.................................................\n",
      "[CV 4/5; 4/4] END gamma=0.001;, score=(train=0.075, test=0.074) total time=  48.3s\n",
      "[CV 5/5; 4/4] START gamma=0.001.................................................\n",
      "[CV 5/5; 4/4] END gamma=0.001;, score=(train=0.075, test=0.074) total time=  49.4s\n",
      "The best params are: {'gamma': 1} \n",
      "The best score are: 0.8641321044546849 \n"
     ]
    }
   ],
   "source": [
    "### studying with respect to gamma parameter:\n",
    "\n",
    "estimator= SVC()\n",
    "#parameters= {'C':[0.1,1,10,100,1000],'kernel':['polynomial', 'rbf', 'sigmoid','linear'],'gamma':[1,0.1,0.01,0.001]}\n",
    "parameters= {'gamma':[1,0.1,0.01,0.001]}\n",
    "svc_clf= GridSearchCV(estimator=estimator,param_grid=parameters,cv=5,return_train_score=True,scoring='accuracy',verbose=10,error_score=0)\n",
    "svc_clf.fit(X_train,y_train)\n",
    "print(f'The best params are: {svc_clf.best_params_} ')\n",
    "print(f'The best score are: {svc_clf.best_score_} ')"
   ]
  },
  {
   "cell_type": "code",
   "execution_count": 42,
   "metadata": {
    "execution": {
     "iopub.execute_input": "2022-04-12T09:11:51.296161Z",
     "iopub.status.busy": "2022-04-12T09:11:51.289918Z",
     "iopub.status.idle": "2022-04-12T09:14:37.644124Z",
     "shell.execute_reply": "2022-04-12T09:14:37.644628Z",
     "shell.execute_reply.started": "2022-04-12T06:18:49.894657Z"
    },
    "papermill": {
     "duration": 166.492652,
     "end_time": "2022-04-12T09:14:37.644814",
     "exception": false,
     "start_time": "2022-04-12T09:11:51.152162",
     "status": "completed"
    },
    "tags": []
   },
   "outputs": [
    {
     "name": "stdout",
     "output_type": "stream",
     "text": [
      "The accuracy of train model is 1.0\n",
      "The accuracy of test model is 0.8770685579196218\n"
     ]
    }
   ],
   "source": [
    "svc_clf_gamma= SVC(gamma=1)\n",
    "svc_clf_gamma.fit(X_train,y_train)\n",
    "y_pred= svc_clf_gamma.predict(X_test)\n",
    "print(f'The accuracy of train model is {sm.accuracy_score(y_train,svc_clf_gamma.predict(X_train))}')\n",
    "print(f'The accuracy of test model is {sm.accuracy_score(y_test,y_pred)}')"
   ]
  },
  {
   "cell_type": "code",
   "execution_count": 43,
   "metadata": {
    "execution": {
     "iopub.execute_input": "2022-04-12T09:14:37.904793Z",
     "iopub.status.busy": "2022-04-12T09:14:37.901444Z",
     "iopub.status.idle": "2022-04-12T09:14:38.080244Z",
     "shell.execute_reply": "2022-04-12T09:14:38.079780Z",
     "shell.execute_reply.started": "2022-04-12T06:24:23.251854Z"
    },
    "papermill": {
     "duration": 0.317001,
     "end_time": "2022-04-12T09:14:38.080371",
     "exception": false,
     "start_time": "2022-04-12T09:14:37.763370",
     "status": "completed"
    },
    "tags": []
   },
   "outputs": [
    {
     "data": {
      "image/png": "[encoded data removed]",
      "text/plain": [
       "<Figure size 432x288 with 1 Axes>"
      ]
     },
     "metadata": {
      "needs_background": "light"
     },
     "output_type": "display_data"
    }
   ],
   "source": [
    "#plotting gamma with accuracy \n",
    "df_results_gamma= pd.DataFrame(svc_clf.cv_results_)\n",
    "plt.plot(df_results_gamma['param_gamma'],df_results_gamma['mean_test_score'], label='test score')\n",
    "plt.plot(df_results_gamma['param_gamma'],df_results_gamma['mean_train_score'], label='train score')\n",
    "plt.title('gamma vs accuracy')\n",
    "plt.xlabel('gamma')\n",
    "plt.ylabel('accuracy')\n",
    "plt.legend()\n",
    "plt.show()"
   ]
  },
  {
   "cell_type": "code",
   "execution_count": 44,
   "metadata": {
    "execution": {
     "iopub.execute_input": "2022-04-12T09:14:38.299820Z",
     "iopub.status.busy": "2022-04-12T09:14:38.298960Z",
     "iopub.status.idle": "2022-04-12T09:42:21.687667Z",
     "shell.execute_reply": "2022-04-12T09:42:21.688126Z",
     "shell.execute_reply.started": "2022-04-12T06:27:51.521946Z"
    },
    "papermill": {
     "duration": 1663.501525,
     "end_time": "2022-04-12T09:42:21.688283",
     "exception": false,
     "start_time": "2022-04-12T09:14:38.186758",
     "status": "completed"
    },
    "tags": []
   },
   "outputs": [
    {
     "name": "stdout",
     "output_type": "stream",
     "text": [
      "Fitting 5 folds for each of 5 candidates, totalling 25 fits\n",
      "[CV 1/5; 1/5] START C=0.1, gamma=0.1, kernel=sigmoid............................\n",
      "[CV 1/5; 1/5] END C=0.1, gamma=0.1, kernel=sigmoid;, score=(train=0.075, test=0.074) total time=  39.5s\n",
      "[CV 2/5; 1/5] START C=0.1, gamma=0.1, kernel=sigmoid............................\n",
      "[CV 2/5; 1/5] END C=0.1, gamma=0.1, kernel=sigmoid;, score=(train=0.074, test=0.078) total time=  39.9s\n",
      "[CV 3/5; 1/5] START C=0.1, gamma=0.1, kernel=sigmoid............................\n",
      "[CV 3/5; 1/5] END C=0.1, gamma=0.1, kernel=sigmoid;, score=(train=0.075, test=0.074) total time=  39.0s\n",
      "[CV 4/5; 1/5] START C=0.1, gamma=0.1, kernel=sigmoid............................\n",
      "[CV 4/5; 1/5] END C=0.1, gamma=0.1, kernel=sigmoid;, score=(train=0.075, test=0.074) total time=  39.0s\n",
      "[CV 5/5; 1/5] START C=0.1, gamma=0.1, kernel=sigmoid............................\n",
      "[CV 5/5; 1/5] END C=0.1, gamma=0.1, kernel=sigmoid;, score=(train=0.075, test=0.074) total time=  41.8s\n",
      "[CV 1/5; 2/5] START C=1000, gamma=0.001, kernel=rbf.............................\n",
      "[CV 1/5; 2/5] END C=1000, gamma=0.001, kernel=rbf;, score=(train=1.000, test=0.940) total time=  45.2s\n",
      "[CV 2/5; 2/5] START C=1000, gamma=0.001, kernel=rbf.............................\n",
      "[CV 2/5; 2/5] END C=1000, gamma=0.001, kernel=rbf;, score=(train=1.000, test=0.922) total time=  41.7s\n",
      "[CV 3/5; 2/5] START C=1000, gamma=0.001, kernel=rbf.............................\n",
      "[CV 3/5; 2/5] END C=1000, gamma=0.001, kernel=rbf;, score=(train=1.000, test=0.907) total time=  42.5s\n",
      "[CV 4/5; 2/5] START C=1000, gamma=0.001, kernel=rbf.............................\n",
      "[CV 4/5; 2/5] END C=1000, gamma=0.001, kernel=rbf;, score=(train=1.000, test=0.898) total time=  42.0s\n",
      "[CV 5/5; 2/5] START C=1000, gamma=0.001, kernel=rbf.............................\n",
      "[CV 5/5; 2/5] END C=1000, gamma=0.001, kernel=rbf;, score=(train=1.000, test=0.935) total time=  43.3s\n",
      "[CV 1/5; 3/5] START C=10, gamma=1, kernel=linear................................\n",
      "[CV 1/5; 3/5] END C=10, gamma=1, kernel=linear;, score=(train=1.000, test=0.940) total time=  34.3s\n",
      "[CV 2/5; 3/5] START C=10, gamma=1, kernel=linear................................\n",
      "[CV 2/5; 3/5] END C=10, gamma=1, kernel=linear;, score=(train=1.000, test=0.922) total time=  35.0s\n",
      "[CV 3/5; 3/5] START C=10, gamma=1, kernel=linear................................\n",
      "[CV 3/5; 3/5] END C=10, gamma=1, kernel=linear;, score=(train=1.000, test=0.907) total time=  35.3s\n",
      "[CV 4/5; 3/5] START C=10, gamma=1, kernel=linear................................\n",
      "[CV 4/5; 3/5] END C=10, gamma=1, kernel=linear;, score=(train=1.000, test=0.898) total time=  35.5s\n",
      "[CV 5/5; 3/5] START C=10, gamma=1, kernel=linear................................\n",
      "[CV 5/5; 3/5] END C=10, gamma=1, kernel=linear;, score=(train=1.000, test=0.935) total time=  35.3s\n",
      "[CV 1/5; 4/5] START C=1000, gamma=0.01, kernel=linear...........................\n",
      "[CV 1/5; 4/5] END C=1000, gamma=0.01, kernel=linear;, score=(train=1.000, test=0.940) total time=  35.0s\n",
      "[CV 2/5; 4/5] START C=1000, gamma=0.01, kernel=linear...........................\n",
      "[CV 2/5; 4/5] END C=1000, gamma=0.01, kernel=linear;, score=(train=1.000, test=0.922) total time=  34.7s\n",
      "[CV 3/5; 4/5] START C=1000, gamma=0.01, kernel=linear...........................\n",
      "[CV 3/5; 4/5] END C=1000, gamma=0.01, kernel=linear;, score=(train=1.000, test=0.907) total time=  35.0s\n",
      "[CV 4/5; 4/5] START C=1000, gamma=0.01, kernel=linear...........................\n",
      "[CV 4/5; 4/5] END C=1000, gamma=0.01, kernel=linear;, score=(train=1.000, test=0.898) total time=  33.7s\n",
      "[CV 5/5; 4/5] START C=1000, gamma=0.01, kernel=linear...........................\n",
      "[CV 5/5; 4/5] END C=1000, gamma=0.01, kernel=linear;, score=(train=1.000, test=0.935) total time=  34.6s\n",
      "[CV 1/5; 5/5] START C=10, gamma=0.01, kernel=linear.............................\n",
      "[CV 1/5; 5/5] END C=10, gamma=0.01, kernel=linear;, score=(train=1.000, test=0.940) total time=  34.6s\n",
      "[CV 2/5; 5/5] START C=10, gamma=0.01, kernel=linear.............................\n",
      "[CV 2/5; 5/5] END C=10, gamma=0.01, kernel=linear;, score=(train=1.000, test=0.922) total time=  35.0s\n",
      "[CV 3/5; 5/5] START C=10, gamma=0.01, kernel=linear.............................\n",
      "[CV 3/5; 5/5] END C=10, gamma=0.01, kernel=linear;, score=(train=1.000, test=0.907) total time=  34.1s\n",
      "[CV 4/5; 5/5] START C=10, gamma=0.01, kernel=linear.............................\n",
      "[CV 4/5; 5/5] END C=10, gamma=0.01, kernel=linear;, score=(train=1.000, test=0.898) total time=  34.2s\n",
      "[CV 5/5; 5/5] START C=10, gamma=0.01, kernel=linear.............................\n",
      "[CV 5/5; 5/5] END C=10, gamma=0.01, kernel=linear;, score=(train=1.000, test=0.935) total time=  36.4s\n",
      "The best params are: {'kernel': 'rbf', 'gamma': 0.001, 'C': 1000} \n",
      "The best score are: 0.9204983785628947 \n"
     ]
    }
   ],
   "source": [
    "#### studying with respect to all parameters\n",
    "from sklearn.model_selection import RandomizedSearchCV\n",
    "estimator= SVC()\n",
    "parameters= {'C':[0.1,1,10,100,1000],'kernel':['polynomial', 'rbf', 'sigmoid','linear'],'gamma':[1,0.1,0.01,0.001]}\n",
    "svc_clf= RandomizedSearchCV(estimator=estimator,param_distributions=parameters,cv=5,n_iter=5,return_train_score=True,scoring='accuracy',verbose=10,error_score=0)\n",
    "svc_clf.fit(X_train,y_train)\n",
    "print(f'The best params are: {svc_clf.best_params_} ')\n",
    "print(f'The best score are: {svc_clf.best_score_} ')"
   ]
  },
  {
   "cell_type": "code",
   "execution_count": 45,
   "metadata": {
    "execution": {
     "iopub.execute_input": "2022-04-12T09:42:21.934859Z",
     "iopub.status.busy": "2022-04-12T09:42:21.933999Z",
     "iopub.status.idle": "2022-04-12T09:44:52.139687Z",
     "shell.execute_reply": "2022-04-12T09:44:52.140201Z",
     "shell.execute_reply.started": "2022-04-12T07:10:06.556729Z"
    },
    "papermill": {
     "duration": 150.338911,
     "end_time": "2022-04-12T09:44:52.140357",
     "exception": false,
     "start_time": "2022-04-12T09:42:21.801446",
     "status": "completed"
    },
    "tags": []
   },
   "outputs": [
    {
     "name": "stdout",
     "output_type": "stream",
     "text": [
      "The accuracy of train model is 1.0\n",
      "The accuracy of test model is 0.9125295508274232\n"
     ]
    }
   ],
   "source": [
    "svc_clf= SVC(**svc_clf.best_params_)\n",
    "svc_clf.fit(X_train,y_train)\n",
    "y_pred= svc_clf.predict(X_test)\n",
    "print(f'The accuracy of train model is {sm.accuracy_score(y_train,svc_clf.predict(X_train))}')\n",
    "print(f'The accuracy of test model is {sm.accuracy_score(y_test,y_pred)}')"
   ]
  },
  {
   "cell_type": "code",
   "execution_count": 46,
   "metadata": {
    "execution": {
     "iopub.execute_input": "2022-04-12T09:44:52.385580Z",
     "iopub.status.busy": "2022-04-12T09:44:52.377378Z",
     "iopub.status.idle": "2022-04-12T09:45:22.955677Z",
     "shell.execute_reply": "2022-04-12T09:45:22.956245Z",
     "shell.execute_reply.started": "2022-04-12T07:13:29.234762Z"
    },
    "papermill": {
     "duration": 30.701671,
     "end_time": "2022-04-12T09:45:22.956423",
     "exception": false,
     "start_time": "2022-04-12T09:44:52.254752",
     "status": "completed"
    },
    "tags": []
   },
   "outputs": [
    {
     "name": "stderr",
     "output_type": "stream",
     "text": [
      "/opt/conda/lib/python3.7/site-packages/sklearn/utils/deprecation.py:87: FutureWarning: Function plot_confusion_matrix is deprecated; Function `plot_confusion_matrix` is deprecated in 1.0 and will be removed in 1.2. Use one of the class methods: ConfusionMatrixDisplay.from_predictions or ConfusionMatrixDisplay.from_estimator.\n",
      "  warnings.warn(msg, category=FutureWarning)\n"
     ]
    },
    {
     "data": {
      "text/plain": [
       "<sklearn.metrics._plot.confusion_matrix.ConfusionMatrixDisplay at 0x7f56854f3e10>"
      ]
     },
     "execution_count": 46,
     "metadata": {},
     "output_type": "execute_result"
    },
    {
     "data": {
      "image/png": "[encoded data removed]",
      "text/plain": [
       "<Figure size 432x288 with 2 Axes>"
      ]
     },
     "metadata": {
      "needs_background": "light"
     },
     "output_type": "display_data"
    }
   ],
   "source": [
    "sm.plot_confusion_matrix(svc_clf,X_test,y_test)"
   ]
  },
  {
   "cell_type": "code",
   "execution_count": 47,
   "metadata": {
    "execution": {
     "iopub.execute_input": "2022-04-12T09:45:23.219162Z",
     "iopub.status.busy": "2022-04-12T09:45:23.218350Z",
     "iopub.status.idle": "2022-04-12T09:45:23.226245Z",
     "shell.execute_reply": "2022-04-12T09:45:23.226618Z",
     "shell.execute_reply.started": "2022-04-12T07:14:04.591440Z"
    },
    "papermill": {
     "duration": 0.137275,
     "end_time": "2022-04-12T09:45:23.226773",
     "exception": false,
     "start_time": "2022-04-12T09:45:23.089498",
     "status": "completed"
    },
    "tags": []
   },
   "outputs": [
    {
     "name": "stdout",
     "output_type": "stream",
     "text": [
      "              precision    recall  f1-score   support\n",
      "\n",
      "           0       1.00      0.50      0.67         4\n",
      "           1       0.83      0.88      0.85        40\n",
      "           2       0.70      0.96      0.81        24\n",
      "           3       0.86      0.92      0.89        26\n",
      "           4       0.86      0.97      0.91        37\n",
      "           5       0.97      0.91      0.94        34\n",
      "           6       1.00      0.40      0.57         5\n",
      "           7       0.96      0.88      0.92        26\n",
      "           8       0.87      0.95      0.91        21\n",
      "           9       1.00      0.91      0.95        22\n",
      "          10       0.97      0.92      0.94        37\n",
      "          11       1.00      0.92      0.96        39\n",
      "          12       0.94      0.89      0.91        18\n",
      "          13       0.96      0.90      0.93        29\n",
      "          14       1.00      0.92      0.96        24\n",
      "          15       0.95      0.97      0.96        37\n",
      "\n",
      "    accuracy                           0.91       423\n",
      "   macro avg       0.93      0.86      0.88       423\n",
      "weighted avg       0.92      0.91      0.91       423\n",
      "\n"
     ]
    }
   ],
   "source": [
    "print(sm.classification_report(y_test,y_pred))"
   ]
  },
  {
   "cell_type": "markdown",
   "metadata": {
    "papermill": {
     "duration": 0.117164,
     "end_time": "2022-04-12T09:45:23.459630",
     "exception": false,
     "start_time": "2022-04-12T09:45:23.342466",
     "status": "completed"
    },
    "tags": []
   },
   "source": [
    "##### from this , it gives me a idea that SVC is also performing better when looking at accuracy and classification report "
   ]
  },
  {
   "cell_type": "code",
   "execution_count": null,
   "metadata": {
    "papermill": {
     "duration": 0.117261,
     "end_time": "2022-04-12T09:45:23.692361",
     "exception": false,
     "start_time": "2022-04-12T09:45:23.575100",
     "status": "completed"
    },
    "tags": []
   },
   "outputs": [],
   "source": []
  }
 ],
 "metadata": {
  "kernelspec": {
   "display_name": "Python 3",
   "language": "python",
   "name": "python3"
  },
  "language_info": {
   "codemirror_mode": {
    "name": "ipython",
    "version": 3
   },
   "file_extension": ".py",
   "mimetype": "text/x-python",
   "name": "python",
   "nbconvert_exporter": "python",
   "pygments_lexer": "ipython3",
   "version": "3.8.5"
  },
  "papermill": {
   "default_parameters": {},
   "duration": 8604.92164,
   "end_time": "2022-04-12T09:45:26.693330",
   "environment_variables": {},
   "exception": null,
   "input_path": "__notebook__.ipynb",
   "output_path": "__notebook__.ipynb",
   "parameters": {},
   "start_time": "2022-04-12T07:22:01.771690",
   "version": "2.3.3"
  }
 },
 "nbformat": 4,
 "nbformat_minor": 5
}
